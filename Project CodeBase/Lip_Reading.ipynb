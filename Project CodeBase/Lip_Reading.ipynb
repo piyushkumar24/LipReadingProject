{
  "cells": [
    {
      "cell_type": "markdown",
      "id": "a3573a47-3689-4668-b62f-5c8451b2b4e9",
      "metadata": {
        "tags": [],
        "id": "a3573a47-3689-4668-b62f-5c8451b2b4e9"
      },
      "source": [
        "## Install and Import Dependencies"
      ]
    },
    {
      "cell_type": "code",
      "execution_count": null,
      "id": "ddfbccbe-41ae-4c23-98b1-a13868e2b499",
      "metadata": {
        "scrolled": true,
        "tags": [],
        "id": "ddfbccbe-41ae-4c23-98b1-a13868e2b499",
        "colab": {
          "base_uri": "https://localhost:8080/"
        },
        "outputId": "0c5e79b9-24e2-4b8a-f6fa-6160e4f23fc6",
        "collapsed": true
      },
      "outputs": [
        {
          "output_type": "stream",
          "name": "stdout",
          "text": [
            "Package                            Version\n",
            "---------------------------------- -------------------\n",
            "absl-py                            1.4.0\n",
            "accelerate                         0.34.2\n",
            "aiohappyeyeballs                   2.4.3\n",
            "aiohttp                            3.10.10\n",
            "aiosignal                          1.3.1\n",
            "alabaster                          0.7.16\n",
            "albucore                           0.0.19\n",
            "albumentations                     1.4.20\n",
            "altair                             4.2.2\n",
            "annotated-types                    0.7.0\n",
            "anyio                              3.7.1\n",
            "argon2-cffi                        23.1.0\n",
            "argon2-cffi-bindings               21.2.0\n",
            "array_record                       0.5.1\n",
            "arviz                              0.20.0\n",
            "astropy                            6.1.4\n",
            "astropy-iers-data                  0.2024.11.4.0.33.34\n",
            "astunparse                         1.6.3\n",
            "async-timeout                      4.0.3\n",
            "atpublic                           4.1.0\n",
            "attrs                              24.2.0\n",
            "audioread                          3.0.1\n",
            "autograd                           1.7.0\n",
            "babel                              2.16.0\n",
            "backcall                           0.2.0\n",
            "beautifulsoup4                     4.12.3\n",
            "bigframes                          1.25.0\n",
            "bigquery-magics                    0.4.0\n",
            "bleach                             6.2.0\n",
            "blinker                            1.4\n",
            "blis                               0.7.11\n",
            "blosc2                             2.0.0\n",
            "bokeh                              3.4.3\n",
            "Bottleneck                         1.4.2\n",
            "bqplot                             0.12.43\n",
            "branca                             0.8.0\n",
            "CacheControl                       0.14.1\n",
            "cachetools                         5.5.0\n",
            "catalogue                          2.0.10\n",
            "certifi                            2024.8.30\n",
            "cffi                               1.17.1\n",
            "chardet                            5.2.0\n",
            "charset-normalizer                 3.4.0\n",
            "chex                               0.1.87\n",
            "clarabel                           0.9.0\n",
            "click                              8.1.7\n",
            "cloudpathlib                       0.20.0\n",
            "cloudpickle                        3.1.0\n",
            "cmake                              3.30.5\n",
            "cmdstanpy                          1.2.4\n",
            "colorcet                           3.1.0\n",
            "colorlover                         0.3.0\n",
            "colour                             0.1.5\n",
            "community                          1.0.0b1\n",
            "confection                         0.1.5\n",
            "cons                               0.4.6\n",
            "contourpy                          1.3.0\n",
            "cryptography                       43.0.3\n",
            "cuda-python                        12.2.1\n",
            "cudf-cu12                          24.10.1\n",
            "cufflinks                          0.17.3\n",
            "cupy-cuda12x                       12.2.0\n",
            "cvxopt                             1.3.2\n",
            "cvxpy                              1.5.3\n",
            "cycler                             0.12.1\n",
            "cymem                              2.0.8\n",
            "Cython                             3.0.11\n",
            "dask                               2024.10.0\n",
            "datascience                        0.17.6\n",
            "db-dtypes                          1.3.0\n",
            "dbus-python                        1.2.18\n",
            "debugpy                            1.8.0\n",
            "decorator                          4.4.2\n",
            "defusedxml                         0.7.1\n",
            "Deprecated                         1.2.14\n",
            "diffusers                          0.30.3\n",
            "distro                             1.9.0\n",
            "dlib                               19.24.2\n",
            "dm-tree                            0.1.8\n",
            "docker-pycreds                     0.4.0\n",
            "docstring_parser                   0.16\n",
            "docutils                           0.18.1\n",
            "dopamine_rl                        4.0.9\n",
            "duckdb                             1.1.3\n",
            "earthengine-api                    1.2.0\n",
            "easydict                           1.13\n",
            "ecos                               2.0.14\n",
            "editdistance                       0.8.1\n",
            "eerepr                             0.0.4\n",
            "einops                             0.8.0\n",
            "en-core-web-sm                     3.7.1\n",
            "entrypoints                        0.4\n",
            "et_xmlfile                         2.0.0\n",
            "etils                              1.10.0\n",
            "etuples                            0.3.9\n",
            "eval_type_backport                 0.2.0\n",
            "exceptiongroup                     1.2.2\n",
            "fastai                             2.7.18\n",
            "fastcore                           1.7.19\n",
            "fastdownload                       0.0.7\n",
            "fastjsonschema                     2.20.0\n",
            "fastprogress                       1.0.3\n",
            "fastrlock                          0.8.2\n",
            "filelock                           3.16.1\n",
            "firebase-admin                     6.5.0\n",
            "Flask                              2.2.5\n",
            "flatbuffers                        24.3.25\n",
            "flax                               0.8.5\n",
            "folium                             0.18.0\n",
            "fonttools                          4.54.1\n",
            "frozendict                         2.4.6\n",
            "frozenlist                         1.5.0\n",
            "fsspec                             2024.10.0\n",
            "future                             1.0.0\n",
            "gast                               0.6.0\n",
            "gcsfs                              2024.10.0\n",
            "GDAL                               3.6.4\n",
            "gdown                              5.2.0\n",
            "geemap                             0.35.1\n",
            "gensim                             4.3.3\n",
            "geocoder                           1.38.1\n",
            "geographiclib                      2.0\n",
            "geopandas                          1.0.1\n",
            "geopy                              2.4.1\n",
            "gin-config                         0.5.0\n",
            "gitdb                              4.0.11\n",
            "GitPython                          3.1.43\n",
            "glob2                              0.7\n",
            "google                             2.0.3\n",
            "google-ai-generativelanguage       0.6.10\n",
            "google-api-core                    2.19.2\n",
            "google-api-python-client           2.137.0\n",
            "google-auth                        2.27.0\n",
            "google-auth-httplib2               0.2.0\n",
            "google-auth-oauthlib               1.2.1\n",
            "google-cloud-aiplatform            1.70.0\n",
            "google-cloud-bigquery              3.25.0\n",
            "google-cloud-bigquery-connection   1.15.5\n",
            "google-cloud-bigquery-storage      2.27.0\n",
            "google-cloud-bigtable              2.26.0\n",
            "google-cloud-core                  2.4.1\n",
            "google-cloud-datastore             2.19.0\n",
            "google-cloud-firestore             2.16.1\n",
            "google-cloud-functions             1.16.5\n",
            "google-cloud-iam                   2.16.0\n",
            "google-cloud-language              2.13.4\n",
            "google-cloud-pubsub                2.26.1\n",
            "google-cloud-resource-manager      1.13.0\n",
            "google-cloud-storage               2.8.0\n",
            "google-cloud-translate             3.15.5\n",
            "google-colab                       1.0.0\n",
            "google-crc32c                      1.6.0\n",
            "google-generativeai                0.8.3\n",
            "google-pasta                       0.2.0\n",
            "google-resumable-media             2.7.2\n",
            "googleapis-common-protos           1.65.0\n",
            "googledrivedownloader              0.4\n",
            "graphviz                           0.20.3\n",
            "greenlet                           3.1.1\n",
            "grpc-google-iam-v1                 0.13.1\n",
            "grpcio                             1.64.1\n",
            "grpcio-status                      1.48.2\n",
            "gspread                            6.0.2\n",
            "gspread-dataframe                  3.3.1\n",
            "gym                                0.25.2\n",
            "gym-notices                        0.0.8\n",
            "h11                                0.14.0\n",
            "h5netcdf                           1.4.0\n",
            "h5py                               3.12.1\n",
            "holidays                           0.60\n",
            "holoviews                          1.19.1\n",
            "html5lib                           1.1\n",
            "httpcore                           1.0.6\n",
            "httpimport                         1.4.0\n",
            "httplib2                           0.22.0\n",
            "httpx                              0.27.2\n",
            "huggingface-hub                    0.24.7\n",
            "humanize                           4.11.0\n",
            "hyperopt                           0.2.7\n",
            "ibis-framework                     9.2.0\n",
            "idna                               3.10\n",
            "imageio                            2.36.0\n",
            "imageio-ffmpeg                     0.5.1\n",
            "imagesize                          1.4.1\n",
            "imbalanced-learn                   0.12.4\n",
            "imgaug                             0.4.0\n",
            "immutabledict                      4.2.0\n",
            "importlib_metadata                 8.5.0\n",
            "importlib_resources                6.4.5\n",
            "imutils                            0.5.4\n",
            "inflect                            7.4.0\n",
            "iniconfig                          2.0.0\n",
            "intel-cmplr-lib-ur                 2025.0.0\n",
            "intel-openmp                       2025.0.0\n",
            "ipyevents                          2.0.2\n",
            "ipyfilechooser                     0.6.0\n",
            "ipykernel                          5.5.6\n",
            "ipyleaflet                         0.19.2\n",
            "ipyparallel                        8.8.0\n",
            "ipython                            7.34.0\n",
            "ipython-genutils                   0.2.0\n",
            "ipython-sql                        0.5.0\n",
            "ipytree                            0.2.2\n",
            "ipywidgets                         7.7.1\n",
            "itsdangerous                       2.2.0\n",
            "jax                                0.4.33\n",
            "jax-cuda12-pjrt                    0.4.33\n",
            "jax-cuda12-plugin                  0.4.33\n",
            "jaxlib                             0.4.33\n",
            "jeepney                            0.7.1\n",
            "jellyfish                          1.1.0\n",
            "jieba                              0.42.1\n",
            "Jinja2                             3.1.4\n",
            "jiter                              0.7.0\n",
            "joblib                             1.4.2\n",
            "jsonpatch                          1.33\n",
            "jsonpickle                         3.4.1\n",
            "jsonpointer                        3.0.0\n",
            "jsonschema                         4.23.0\n",
            "jsonschema-specifications          2024.10.1\n",
            "jupyter-client                     6.1.12\n",
            "jupyter-console                    6.1.0\n",
            "jupyter_core                       5.7.2\n",
            "jupyter-leaflet                    0.19.2\n",
            "jupyter-server                     1.24.0\n",
            "jupyterlab_pygments                0.3.0\n",
            "jupyterlab_widgets                 3.0.13\n",
            "kaggle                             1.6.17\n",
            "kagglehub                          0.3.3\n",
            "keras                              3.4.1\n",
            "keyring                            23.5.0\n",
            "kiwisolver                         1.4.7\n",
            "langchain                          0.3.7\n",
            "langchain-core                     0.3.15\n",
            "langchain-text-splitters           0.3.2\n",
            "langcodes                          3.4.1\n",
            "langsmith                          0.1.139\n",
            "language_data                      1.2.0\n",
            "launchpadlib                       1.10.16\n",
            "lazr.restfulclient                 0.14.4\n",
            "lazr.uri                           1.0.6\n",
            "lazy_loader                        0.4\n",
            "libclang                           18.1.1\n",
            "libcudf-cu12                       24.10.1\n",
            "librosa                            0.10.2.post1\n",
            "lightgbm                           4.5.0\n",
            "linkify-it-py                      2.0.3\n",
            "llvmlite                           0.43.0\n",
            "locket                             1.0.0\n",
            "logical-unification                0.4.6\n",
            "lxml                               5.3.0\n",
            "marisa-trie                        1.2.1\n",
            "Markdown                           3.7\n",
            "markdown-it-py                     3.0.0\n",
            "MarkupSafe                         3.0.2\n",
            "matplotlib                         3.8.0\n",
            "matplotlib-inline                  0.1.7\n",
            "matplotlib-venn                    1.1.1\n",
            "mdit-py-plugins                    0.4.2\n",
            "mdurl                              0.1.2\n",
            "miniKanren                         1.0.3\n",
            "missingno                          0.5.2\n",
            "mistune                            3.0.2\n",
            "mizani                             0.13.0\n",
            "mkl                                2024.2.2\n",
            "ml-dtypes                          0.4.1\n",
            "mlxtend                            0.23.2\n",
            "more-itertools                     10.5.0\n",
            "moviepy                            1.0.3\n",
            "mpmath                             1.3.0\n",
            "msgpack                            1.1.0\n",
            "multidict                          6.1.0\n",
            "multipledispatch                   1.0.0\n",
            "multitasking                       0.0.11\n",
            "murmurhash                         1.0.10\n",
            "music21                            9.1.0\n",
            "namex                              0.0.8\n",
            "natsort                            8.4.0\n",
            "nbclassic                          1.1.0\n",
            "nbclient                           0.10.0\n",
            "nbconvert                          7.16.4\n",
            "nbformat                           5.10.4\n",
            "nest-asyncio                       1.6.0\n",
            "networkx                           3.4.2\n",
            "nibabel                            5.3.2\n",
            "nltk                               3.8.1\n",
            "notebook                           6.5.5\n",
            "notebook_shim                      0.2.4\n",
            "numba                              0.60.0\n",
            "numexpr                            2.10.1\n",
            "numpy                              1.26.4\n",
            "nvidia-cublas-cu12                 12.6.3.3\n",
            "nvidia-cuda-cupti-cu12             12.6.80\n",
            "nvidia-cuda-nvcc-cu12              12.6.77\n",
            "nvidia-cuda-runtime-cu12           12.6.77\n",
            "nvidia-cudnn-cu12                  9.5.1.17\n",
            "nvidia-cufft-cu12                  11.3.0.4\n",
            "nvidia-curand-cu12                 10.3.7.77\n",
            "nvidia-cusolver-cu12               11.7.1.2\n",
            "nvidia-cusparse-cu12               12.5.4.2\n",
            "nvidia-nccl-cu12                   2.23.4\n",
            "nvidia-nvjitlink-cu12              12.6.77\n",
            "nvtx                               0.2.10\n",
            "nx-cugraph-cu12                    24.10.0\n",
            "oauth2client                       4.1.3\n",
            "oauthlib                           3.2.2\n",
            "openai                             1.52.2\n",
            "opencv-contrib-python              4.10.0.84\n",
            "opencv-python                      4.10.0.84\n",
            "opencv-python-headless             4.10.0.84\n",
            "openpyxl                           3.1.5\n",
            "opentelemetry-api                  1.28.0\n",
            "opentelemetry-sdk                  1.28.0\n",
            "opentelemetry-semantic-conventions 0.49b0\n",
            "opt_einsum                         3.4.0\n",
            "optax                              0.2.3\n",
            "optree                             0.13.0\n",
            "orbax-checkpoint                   0.6.4\n",
            "orjson                             3.10.11\n",
            "osqp                               0.6.7.post3\n",
            "packaging                          24.1\n",
            "pandas                             2.2.2\n",
            "pandas-datareader                  0.10.0\n",
            "pandas-gbq                         0.24.0\n",
            "pandas-stubs                       2.2.2.240909\n",
            "pandocfilters                      1.5.1\n",
            "panel                              1.4.5\n",
            "param                              2.1.1\n",
            "parso                              0.8.4\n",
            "parsy                              2.1\n",
            "partd                              1.4.2\n",
            "pathlib                            1.0.1\n",
            "patsy                              0.5.6\n",
            "peewee                             3.17.7\n",
            "peft                               0.13.2\n",
            "pexpect                            4.9.0\n",
            "pickleshare                        0.7.5\n",
            "pillow                             10.4.0\n",
            "pip                                24.1.2\n",
            "platformdirs                       4.3.6\n",
            "plotly                             5.24.1\n",
            "plotnine                           0.14.1\n",
            "pluggy                             1.5.0\n",
            "polars                             1.9.0\n",
            "pooch                              1.8.2\n",
            "portpicker                         1.5.2\n",
            "preshed                            3.0.9\n",
            "prettytable                        3.12.0\n",
            "proglog                            0.1.10\n",
            "progressbar2                       4.5.0\n",
            "prometheus_client                  0.21.0\n",
            "promise                            2.3\n",
            "prompt_toolkit                     3.0.48\n",
            "propcache                          0.2.0\n",
            "prophet                            1.1.6\n",
            "proto-plus                         1.25.0\n",
            "protobuf                           3.20.3\n",
            "psutil                             5.9.5\n",
            "psycopg2                           2.9.10\n",
            "ptyprocess                         0.7.0\n",
            "py-cpuinfo                         9.0.0\n",
            "py4j                               0.10.9.7\n",
            "pyarrow                            17.0.0\n",
            "pyarrow-hotfix                     0.6\n",
            "pyasn1                             0.6.1\n",
            "pyasn1_modules                     0.4.1\n",
            "pycocotools                        2.0.8\n",
            "pycparser                          2.22\n",
            "pydantic                           2.9.2\n",
            "pydantic_core                      2.23.4\n",
            "pydata-google-auth                 1.8.2\n",
            "pydot                              3.0.2\n",
            "pydotplus                          2.0.2\n",
            "PyDrive                            1.3.1\n",
            "PyDrive2                           1.20.0\n",
            "pyerfa                             2.0.1.4\n",
            "pygame                             2.6.1\n",
            "pygit2                             1.16.0\n",
            "Pygments                           2.18.0\n",
            "PyGObject                          3.42.1\n",
            "PyJWT                              2.9.0\n",
            "pylibcudf-cu12                     24.10.1\n",
            "pylibcugraph-cu12                  24.10.0\n",
            "pylibraft-cu12                     24.10.0\n",
            "pymc                               5.17.0\n",
            "pymystem3                          0.2.0\n",
            "pynvjitlink-cu12                   0.4.0\n",
            "pyogrio                            0.10.0\n",
            "PyOpenGL                           3.1.7\n",
            "pyOpenSSL                          24.2.1\n",
            "pyparsing                          3.2.0\n",
            "pyperclip                          1.9.0\n",
            "pyproj                             3.7.0\n",
            "pyshp                              2.3.1\n",
            "PySocks                            1.7.1\n",
            "pyspark                            3.5.3\n",
            "pytensor                           2.25.5\n",
            "pytest                             7.4.4\n",
            "python-apt                         0.0.0\n",
            "python-box                         7.2.0\n",
            "python-dateutil                    2.8.2\n",
            "python-louvain                     0.16\n",
            "python-slugify                     8.0.4\n",
            "python-utils                       3.9.0\n",
            "pytz                               2024.2\n",
            "pyviz_comms                        3.0.3\n",
            "PyYAML                             6.0.2\n",
            "pyzmq                              24.0.1\n",
            "qdldl                              0.1.7.post4\n",
            "ratelim                            0.1.6\n",
            "referencing                        0.35.1\n",
            "regex                              2024.9.11\n",
            "requests                           2.32.3\n",
            "requests-oauthlib                  1.3.1\n",
            "requests-toolbelt                  1.0.0\n",
            "requirements-parser                0.9.0\n",
            "rich                               13.9.4\n",
            "rmm-cu12                           24.10.0\n",
            "rpds-py                            0.20.1\n",
            "rpy2                               3.4.2\n",
            "rsa                                4.9\n",
            "safetensors                        0.4.5\n",
            "scikit-image                       0.24.0\n",
            "scikit-learn                       1.5.2\n",
            "scipy                              1.13.1\n",
            "scooby                             0.10.0\n",
            "scs                                3.2.7\n",
            "seaborn                            0.13.2\n",
            "SecretStorage                      3.3.1\n",
            "Send2Trash                         1.8.3\n",
            "sentence-transformers              3.2.1\n",
            "sentencepiece                      0.2.0\n",
            "sentry-sdk                         2.18.0\n",
            "setproctitle                       1.3.3\n",
            "setuptools                         75.1.0\n",
            "shap                               0.46.0\n",
            "shapely                            2.0.6\n",
            "shellingham                        1.5.4\n",
            "simple-parsing                     0.1.6\n",
            "six                                1.16.0\n",
            "sklearn-pandas                     2.2.0\n",
            "slicer                             0.0.8\n",
            "smart-open                         7.0.5\n",
            "smmap                              5.0.1\n",
            "sniffio                            1.3.1\n",
            "snowballstemmer                    2.2.0\n",
            "soundfile                          0.12.1\n",
            "soupsieve                          2.6\n",
            "soxr                               0.5.0.post1\n",
            "spacy                              3.7.5\n",
            "spacy-legacy                       3.0.12\n",
            "spacy-loggers                      1.0.5\n",
            "Sphinx                             5.0.2\n",
            "sphinxcontrib-applehelp            2.0.0\n",
            "sphinxcontrib-devhelp              2.0.0\n",
            "sphinxcontrib-htmlhelp             2.1.0\n",
            "sphinxcontrib-jsmath               1.0.1\n",
            "sphinxcontrib-qthelp               2.0.0\n",
            "sphinxcontrib-serializinghtml      2.0.0\n",
            "SQLAlchemy                         2.0.36\n",
            "sqlglot                            25.1.0\n",
            "sqlparse                           0.5.1\n",
            "srsly                              2.4.8\n",
            "stanio                             0.5.1\n",
            "statsmodels                        0.14.4\n",
            "StrEnum                            0.4.15\n",
            "stringzilla                        3.10.7\n",
            "sympy                              1.13.1\n",
            "tables                             3.8.0\n",
            "tabulate                           0.9.0\n",
            "tbb                                2021.13.1\n",
            "tcmlib                             1.2.0\n",
            "tenacity                           9.0.0\n",
            "tensorboard                        2.17.0\n",
            "tensorboard-data-server            0.7.2\n",
            "tensorflow                         2.17.0\n",
            "tensorflow-datasets                4.9.7\n",
            "tensorflow-hub                     0.16.1\n",
            "tensorflow-io-gcs-filesystem       0.37.1\n",
            "tensorflow-metadata                1.16.1\n",
            "tensorflow-probability             0.24.0\n",
            "tensorstore                        0.1.67\n",
            "termcolor                          2.5.0\n",
            "terminado                          0.18.1\n",
            "text-unidecode                     1.3\n",
            "textblob                           0.17.1\n",
            "tf_keras                           2.17.0\n",
            "tf-slim                            1.1.0\n",
            "thinc                              8.2.5\n",
            "threadpoolctl                      3.5.0\n",
            "tifffile                           2024.9.20\n",
            "timm                               1.0.11\n",
            "tinycss2                           1.4.0\n",
            "tokenizers                         0.19.1\n",
            "toml                               0.10.2\n",
            "tomli                              2.0.2\n",
            "toolz                              0.12.1\n",
            "torch                              2.5.0+cu121\n",
            "torchaudio                         2.5.0+cu121\n",
            "torchsummary                       1.5.1\n",
            "torchvision                        0.20.0+cu121\n",
            "tornado                            6.3.3\n",
            "tqdm                               4.66.6\n",
            "traitlets                          5.7.1\n",
            "traittypes                         0.2.1\n",
            "transformers                       4.44.2\n",
            "tweepy                             4.14.0\n",
            "typeguard                          4.4.1\n",
            "typer                              0.12.5\n",
            "types-pytz                         2024.2.0.20241003\n",
            "types-setuptools                   75.3.0.20241107\n",
            "typing_extensions                  4.12.2\n",
            "tzdata                             2024.2\n",
            "tzlocal                            5.2\n",
            "uc-micro-py                        1.0.3\n",
            "umf                                0.9.0\n",
            "uritemplate                        4.1.1\n",
            "urllib3                            2.2.3\n",
            "vega-datasets                      0.9.0\n",
            "wadllib                            1.3.6\n",
            "wandb                              0.18.5\n",
            "wasabi                             1.1.3\n",
            "wcwidth                            0.2.13\n",
            "weasel                             0.4.1\n",
            "webcolors                          24.8.0\n",
            "webencodings                       0.5.1\n",
            "websocket-client                   1.8.0\n",
            "Werkzeug                           3.1.2\n",
            "wheel                              0.44.0\n",
            "widgetsnbextension                 3.6.10\n",
            "wordcloud                          1.9.3\n",
            "wrapt                              1.16.0\n",
            "xarray                             2024.10.0\n",
            "xarray-einstats                    0.8.0\n",
            "xgboost                            2.1.2\n",
            "xlrd                               2.0.1\n",
            "xyzservices                        2024.9.0\n",
            "yarl                               1.17.1\n",
            "yellowbrick                        1.5\n",
            "yfinance                           0.2.48\n",
            "zipp                               3.20.2\n"
          ]
        }
      ],
      "source": [
        "!pip list"
      ]
    },
    {
      "cell_type": "code",
      "execution_count": null,
      "id": "02f907ea-f669-46c7-adcf-7f257e663448",
      "metadata": {
        "tags": [],
        "colab": {
          "base_uri": "https://localhost:8080/"
        },
        "id": "02f907ea-f669-46c7-adcf-7f257e663448",
        "outputId": "1deb9bb1-68d3-4e37-f3f5-440bec0097b5",
        "collapsed": true
      },
      "outputs": [
        {
          "output_type": "stream",
          "name": "stdout",
          "text": [
            "Requirement already satisfied: opencv-python in /usr/local/lib/python3.10/dist-packages (4.10.0.84)\n",
            "Requirement already satisfied: matplotlib in /usr/local/lib/python3.10/dist-packages (3.8.0)\n",
            "Requirement already satisfied: imageio in /usr/local/lib/python3.10/dist-packages (2.36.0)\n",
            "Requirement already satisfied: gdown in /usr/local/lib/python3.10/dist-packages (5.2.0)\n",
            "Requirement already satisfied: tensorflow in /usr/local/lib/python3.10/dist-packages (2.17.0)\n",
            "Requirement already satisfied: numpy>=1.21.2 in /usr/local/lib/python3.10/dist-packages (from opencv-python) (1.26.4)\n",
            "Requirement already satisfied: contourpy>=1.0.1 in /usr/local/lib/python3.10/dist-packages (from matplotlib) (1.3.0)\n",
            "Requirement already satisfied: cycler>=0.10 in /usr/local/lib/python3.10/dist-packages (from matplotlib) (0.12.1)\n",
            "Requirement already satisfied: fonttools>=4.22.0 in /usr/local/lib/python3.10/dist-packages (from matplotlib) (4.54.1)\n",
            "Requirement already satisfied: kiwisolver>=1.0.1 in /usr/local/lib/python3.10/dist-packages (from matplotlib) (1.4.7)\n",
            "Requirement already satisfied: packaging>=20.0 in /usr/local/lib/python3.10/dist-packages (from matplotlib) (24.1)\n",
            "Requirement already satisfied: pillow>=6.2.0 in /usr/local/lib/python3.10/dist-packages (from matplotlib) (10.4.0)\n",
            "Requirement already satisfied: pyparsing>=2.3.1 in /usr/local/lib/python3.10/dist-packages (from matplotlib) (3.2.0)\n",
            "Requirement already satisfied: python-dateutil>=2.7 in /usr/local/lib/python3.10/dist-packages (from matplotlib) (2.8.2)\n",
            "Requirement already satisfied: beautifulsoup4 in /usr/local/lib/python3.10/dist-packages (from gdown) (4.12.3)\n",
            "Requirement already satisfied: filelock in /usr/local/lib/python3.10/dist-packages (from gdown) (3.16.1)\n",
            "Requirement already satisfied: requests[socks] in /usr/local/lib/python3.10/dist-packages (from gdown) (2.32.3)\n",
            "Requirement already satisfied: tqdm in /usr/local/lib/python3.10/dist-packages (from gdown) (4.66.6)\n",
            "Requirement already satisfied: absl-py>=1.0.0 in /usr/local/lib/python3.10/dist-packages (from tensorflow) (1.4.0)\n",
            "Requirement already satisfied: astunparse>=1.6.0 in /usr/local/lib/python3.10/dist-packages (from tensorflow) (1.6.3)\n",
            "Requirement already satisfied: flatbuffers>=24.3.25 in /usr/local/lib/python3.10/dist-packages (from tensorflow) (24.3.25)\n",
            "Requirement already satisfied: gast!=0.5.0,!=0.5.1,!=0.5.2,>=0.2.1 in /usr/local/lib/python3.10/dist-packages (from tensorflow) (0.6.0)\n",
            "Requirement already satisfied: google-pasta>=0.1.1 in /usr/local/lib/python3.10/dist-packages (from tensorflow) (0.2.0)\n",
            "Requirement already satisfied: h5py>=3.10.0 in /usr/local/lib/python3.10/dist-packages (from tensorflow) (3.12.1)\n",
            "Requirement already satisfied: libclang>=13.0.0 in /usr/local/lib/python3.10/dist-packages (from tensorflow) (18.1.1)\n",
            "Requirement already satisfied: ml-dtypes<0.5.0,>=0.3.1 in /usr/local/lib/python3.10/dist-packages (from tensorflow) (0.4.1)\n",
            "Requirement already satisfied: opt-einsum>=2.3.2 in /usr/local/lib/python3.10/dist-packages (from tensorflow) (3.4.0)\n",
            "Requirement already satisfied: protobuf!=4.21.0,!=4.21.1,!=4.21.2,!=4.21.3,!=4.21.4,!=4.21.5,<5.0.0dev,>=3.20.3 in /usr/local/lib/python3.10/dist-packages (from tensorflow) (3.20.3)\n",
            "Requirement already satisfied: setuptools in /usr/local/lib/python3.10/dist-packages (from tensorflow) (75.1.0)\n",
            "Requirement already satisfied: six>=1.12.0 in /usr/local/lib/python3.10/dist-packages (from tensorflow) (1.16.0)\n",
            "Requirement already satisfied: termcolor>=1.1.0 in /usr/local/lib/python3.10/dist-packages (from tensorflow) (2.5.0)\n",
            "Requirement already satisfied: typing-extensions>=3.6.6 in /usr/local/lib/python3.10/dist-packages (from tensorflow) (4.12.2)\n",
            "Requirement already satisfied: wrapt>=1.11.0 in /usr/local/lib/python3.10/dist-packages (from tensorflow) (1.16.0)\n",
            "Requirement already satisfied: grpcio<2.0,>=1.24.3 in /usr/local/lib/python3.10/dist-packages (from tensorflow) (1.64.1)\n",
            "Requirement already satisfied: tensorboard<2.18,>=2.17 in /usr/local/lib/python3.10/dist-packages (from tensorflow) (2.17.0)\n",
            "Requirement already satisfied: keras>=3.2.0 in /usr/local/lib/python3.10/dist-packages (from tensorflow) (3.4.1)\n",
            "Requirement already satisfied: tensorflow-io-gcs-filesystem>=0.23.1 in /usr/local/lib/python3.10/dist-packages (from tensorflow) (0.37.1)\n",
            "Requirement already satisfied: wheel<1.0,>=0.23.0 in /usr/local/lib/python3.10/dist-packages (from astunparse>=1.6.0->tensorflow) (0.44.0)\n",
            "Requirement already satisfied: rich in /usr/local/lib/python3.10/dist-packages (from keras>=3.2.0->tensorflow) (13.9.4)\n",
            "Requirement already satisfied: namex in /usr/local/lib/python3.10/dist-packages (from keras>=3.2.0->tensorflow) (0.0.8)\n",
            "Requirement already satisfied: optree in /usr/local/lib/python3.10/dist-packages (from keras>=3.2.0->tensorflow) (0.13.0)\n",
            "Requirement already satisfied: charset-normalizer<4,>=2 in /usr/local/lib/python3.10/dist-packages (from requests[socks]->gdown) (3.4.0)\n",
            "Requirement already satisfied: idna<4,>=2.5 in /usr/local/lib/python3.10/dist-packages (from requests[socks]->gdown) (3.10)\n",
            "Requirement already satisfied: urllib3<3,>=1.21.1 in /usr/local/lib/python3.10/dist-packages (from requests[socks]->gdown) (2.2.3)\n",
            "Requirement already satisfied: certifi>=2017.4.17 in /usr/local/lib/python3.10/dist-packages (from requests[socks]->gdown) (2024.8.30)\n",
            "Requirement already satisfied: markdown>=2.6.8 in /usr/local/lib/python3.10/dist-packages (from tensorboard<2.18,>=2.17->tensorflow) (3.7)\n",
            "Requirement already satisfied: tensorboard-data-server<0.8.0,>=0.7.0 in /usr/local/lib/python3.10/dist-packages (from tensorboard<2.18,>=2.17->tensorflow) (0.7.2)\n",
            "Requirement already satisfied: werkzeug>=1.0.1 in /usr/local/lib/python3.10/dist-packages (from tensorboard<2.18,>=2.17->tensorflow) (3.1.2)\n",
            "Requirement already satisfied: soupsieve>1.2 in /usr/local/lib/python3.10/dist-packages (from beautifulsoup4->gdown) (2.6)\n",
            "Requirement already satisfied: PySocks!=1.5.7,>=1.5.6 in /usr/local/lib/python3.10/dist-packages (from requests[socks]->gdown) (1.7.1)\n",
            "Requirement already satisfied: MarkupSafe>=2.1.1 in /usr/local/lib/python3.10/dist-packages (from werkzeug>=1.0.1->tensorboard<2.18,>=2.17->tensorflow) (3.0.2)\n",
            "Requirement already satisfied: markdown-it-py>=2.2.0 in /usr/local/lib/python3.10/dist-packages (from rich->keras>=3.2.0->tensorflow) (3.0.0)\n",
            "Requirement already satisfied: pygments<3.0.0,>=2.13.0 in /usr/local/lib/python3.10/dist-packages (from rich->keras>=3.2.0->tensorflow) (2.18.0)\n",
            "Requirement already satisfied: mdurl~=0.1 in /usr/local/lib/python3.10/dist-packages (from markdown-it-py>=2.2.0->rich->keras>=3.2.0->tensorflow) (0.1.2)\n"
          ]
        }
      ],
      "source": [
        "!pip install opencv-python matplotlib imageio gdown tensorflow"
      ]
    },
    {
      "cell_type": "code",
      "source": [
        "!pip install tensorflow==2.10"
      ],
      "metadata": {
        "collapsed": true,
        "id": "nLjV-16GEMmD"
      },
      "id": "nLjV-16GEMmD",
      "execution_count": null,
      "outputs": []
    },
    {
      "cell_type": "code",
      "execution_count": null,
      "id": "b24af50c-20b8-409d-ad78-30a933fdd669",
      "metadata": {
        "tags": [],
        "id": "b24af50c-20b8-409d-ad78-30a933fdd669"
      },
      "outputs": [],
      "source": [
        "import os\n",
        "import cv2\n",
        "import tensorflow as tf\n",
        "import numpy as np\n",
        "from typing import List\n",
        "from matplotlib import pyplot as plt\n",
        "import imageio"
      ]
    },
    {
      "cell_type": "code",
      "execution_count": null,
      "id": "1e3db0b0-e559-4ad6-91fd-e7414b7d75e6",
      "metadata": {
        "id": "1e3db0b0-e559-4ad6-91fd-e7414b7d75e6",
        "colab": {
          "base_uri": "https://localhost:8080/"
        },
        "outputId": "a2d4ad57-6c23-429f-91f5-960c6f02c23b"
      },
      "outputs": [
        {
          "output_type": "execute_result",
          "data": {
            "text/plain": [
              "[]"
            ]
          },
          "metadata": {},
          "execution_count": 6
        }
      ],
      "source": [
        "tf.config.list_physical_devices('GPU')"
      ]
    },
    {
      "cell_type": "code",
      "execution_count": null,
      "id": "378d045a-3003-4f93-b7d2-a25a97774a68",
      "metadata": {
        "tags": [],
        "id": "378d045a-3003-4f93-b7d2-a25a97774a68"
      },
      "outputs": [],
      "source": [
        "physical_devices = tf.config.list_physical_devices('GPU')\n",
        "try:\n",
        "    tf.config.experimental.set_memory_growth(physical_devices[0], True)\n",
        "except:\n",
        "    pass"
      ]
    },
    {
      "cell_type": "markdown",
      "id": "7a19e88e-c7b9-45c1-ae1e-f2109329c71b",
      "metadata": {
        "tags": [],
        "id": "7a19e88e-c7b9-45c1-ae1e-f2109329c71b"
      },
      "source": [
        "## Build Data Loading Functions"
      ]
    },
    {
      "cell_type": "code",
      "execution_count": null,
      "id": "8fb99c90-e05a-437f-839d-6e772f8c1dd5",
      "metadata": {
        "tags": [],
        "id": "8fb99c90-e05a-437f-839d-6e772f8c1dd5"
      },
      "outputs": [],
      "source": [
        "import gdown"
      ]
    },
    {
      "cell_type": "code",
      "execution_count": null,
      "id": "c019e4c6-2af3-4160-99ea-5c8cb009f1a7",
      "metadata": {
        "tags": [],
        "colab": {
          "base_uri": "https://localhost:8080/"
        },
        "id": "c019e4c6-2af3-4160-99ea-5c8cb009f1a7",
        "outputId": "b163fcf1-508c-42d4-c59e-13b3f0cef82b",
        "collapsed": true
      },
      "outputs": [
        {
          "output_type": "stream",
          "name": "stderr",
          "text": [
            "Downloading...\n",
            "From (original): https://drive.google.com/uc?id=1YlvpDLix3S-U8fd-gqRwPcWXAXm8JwjL\n",
            "From (redirected): https://drive.google.com/uc?id=1YlvpDLix3S-U8fd-gqRwPcWXAXm8JwjL&confirm=t&uuid=c81163cd-5116-408b-afd8-ec8c20f85942\n",
            "To: /content/data.zip\n",
            "100%|██████████| 423M/423M [00:06<00:00, 64.6MB/s]\n"
          ]
        },
        {
          "output_type": "execute_result",
          "data": {
            "text/plain": [
              "['data/',\n",
              " 'data/alignments/',\n",
              " 'data/alignments/s1/',\n",
              " 'data/alignments/s1/bbaf2n.align',\n",
              " 'data/alignments/s1/bbaf3s.align',\n",
              " 'data/alignments/s1/bbaf4p.align',\n",
              " 'data/alignments/s1/bbaf5a.align',\n",
              " 'data/alignments/s1/bbal6n.align',\n",
              " 'data/alignments/s1/bbal7s.align',\n",
              " 'data/alignments/s1/bbal8p.align',\n",
              " 'data/alignments/s1/bbal9a.align',\n",
              " 'data/alignments/s1/bbas1s.align',\n",
              " 'data/alignments/s1/bbas2p.align',\n",
              " 'data/alignments/s1/bbas3a.align',\n",
              " 'data/alignments/s1/bbaszn.align',\n",
              " 'data/alignments/s1/bbaz4n.align',\n",
              " 'data/alignments/s1/bbaz5s.align',\n",
              " 'data/alignments/s1/bbaz6p.align',\n",
              " 'data/alignments/s1/bbaz7a.align',\n",
              " 'data/alignments/s1/bbbf6n.align',\n",
              " 'data/alignments/s1/bbbf7s.align',\n",
              " 'data/alignments/s1/bbbf8p.align',\n",
              " 'data/alignments/s1/bbbf9a.align',\n",
              " 'data/alignments/s1/bbbm1s.align',\n",
              " 'data/alignments/s1/bbbm2p.align',\n",
              " 'data/alignments/s1/bbbm3a.align',\n",
              " 'data/alignments/s1/bbbmzn.align',\n",
              " 'data/alignments/s1/bbbs4n.align',\n",
              " 'data/alignments/s1/bbbs5s.align',\n",
              " 'data/alignments/s1/bbbs6p.align',\n",
              " 'data/alignments/s1/bbbs7a.align',\n",
              " 'data/alignments/s1/bbbz8n.align',\n",
              " 'data/alignments/s1/bbbz9s.align',\n",
              " 'data/alignments/s1/bbie8n.align',\n",
              " 'data/alignments/s1/bbie9s.align',\n",
              " 'data/alignments/s1/bbif1a.align',\n",
              " 'data/alignments/s1/bbifzp.align',\n",
              " 'data/alignments/s1/bbil2n.align',\n",
              " 'data/alignments/s1/bbil3s.align',\n",
              " 'data/alignments/s1/bbil4p.align',\n",
              " 'data/alignments/s1/bbil5a.align',\n",
              " 'data/alignments/s1/bbir6n.align',\n",
              " 'data/alignments/s1/bbir7s.align',\n",
              " 'data/alignments/s1/bbir8p.align',\n",
              " 'data/alignments/s1/bbir9a.align',\n",
              " 'data/alignments/s1/bbiz1s.align',\n",
              " 'data/alignments/s1/bbiz2p.align',\n",
              " 'data/alignments/s1/bbiz3a.align',\n",
              " 'data/alignments/s1/bbizzn.align',\n",
              " 'data/alignments/s1/bbwg1s.align',\n",
              " 'data/alignments/s1/bbwg2p.align',\n",
              " 'data/alignments/s1/bbwg3a.align',\n",
              " 'data/alignments/s1/bbwgzn.align',\n",
              " 'data/alignments/s1/bbwm4n.align',\n",
              " 'data/alignments/s1/bbwm5s.align',\n",
              " 'data/alignments/s1/bbwm6p.align',\n",
              " 'data/alignments/s1/bbwm7a.align',\n",
              " 'data/alignments/s1/bbws8n.align',\n",
              " 'data/alignments/s1/bbws9s.align',\n",
              " 'data/alignments/s1/bbwt1a.align',\n",
              " 'data/alignments/s1/bbwtzp.align',\n",
              " 'data/alignments/s1/bgaa6n.align',\n",
              " 'data/alignments/s1/bgaa7s.align',\n",
              " 'data/alignments/s1/bgaa8p.align',\n",
              " 'data/alignments/s1/bgaa9a.align',\n",
              " 'data/alignments/s1/bgah1s.align',\n",
              " 'data/alignments/s1/bgah2p.align',\n",
              " 'data/alignments/s1/bgah3a.align',\n",
              " 'data/alignments/s1/bgahzn.align',\n",
              " 'data/alignments/s1/bgan4n.align',\n",
              " 'data/alignments/s1/bgan5s.align',\n",
              " 'data/alignments/s1/bgan6p.align',\n",
              " 'data/alignments/s1/bgan7a.align',\n",
              " 'data/alignments/s1/bgat8n.align',\n",
              " 'data/alignments/s1/bgat9s.align',\n",
              " 'data/alignments/s1/bgau1a.align',\n",
              " 'data/alignments/s1/bgauzp.align',\n",
              " 'data/alignments/s1/bgbb1s.align',\n",
              " 'data/alignments/s1/bgbb2p.align',\n",
              " 'data/alignments/s1/bgbb3a.align',\n",
              " 'data/alignments/s1/bgbbzn.align',\n",
              " 'data/alignments/s1/bgbh4n.align',\n",
              " 'data/alignments/s1/bgbh5s.align',\n",
              " 'data/alignments/s1/bgbh6p.align',\n",
              " 'data/alignments/s1/bgbh7a.align',\n",
              " 'data/alignments/s1/bgbn8n.align',\n",
              " 'data/alignments/s1/bgbn9s.align',\n",
              " 'data/alignments/s1/bgbo1a.align',\n",
              " 'data/alignments/s1/bgbozp.align',\n",
              " 'data/alignments/s1/bgbu2n.align',\n",
              " 'data/alignments/s1/bgbu3s.align',\n",
              " 'data/alignments/s1/bgbu4p.align',\n",
              " 'data/alignments/s1/bgbu5a.align',\n",
              " 'data/alignments/s1/bgia2n.align',\n",
              " 'data/alignments/s1/bgia3s.align',\n",
              " 'data/alignments/s1/bgia4p.align',\n",
              " 'data/alignments/s1/bgia5a.align',\n",
              " 'data/alignments/s1/bgig6n.align',\n",
              " 'data/alignments/s1/bgig7s.align',\n",
              " 'data/alignments/s1/bgig8p.align',\n",
              " 'data/alignments/s1/bgig9a.align',\n",
              " 'data/alignments/s1/bgin1s.align',\n",
              " 'data/alignments/s1/bgin2p.align',\n",
              " 'data/alignments/s1/bgin3a.align',\n",
              " 'data/alignments/s1/bginzn.align',\n",
              " 'data/alignments/s1/bgit4n.align',\n",
              " 'data/alignments/s1/bgit5s.align',\n",
              " 'data/alignments/s1/bgit6p.align',\n",
              " 'data/alignments/s1/bgit7a.align',\n",
              " 'data/alignments/s1/bgwb4n.align',\n",
              " 'data/alignments/s1/bgwb5s.align',\n",
              " 'data/alignments/s1/bgwb6p.align',\n",
              " 'data/alignments/s1/bgwb7a.align',\n",
              " 'data/alignments/s1/bgwh8n.align',\n",
              " 'data/alignments/s1/bgwh9s.align',\n",
              " 'data/alignments/s1/bgwi1a.align',\n",
              " 'data/alignments/s1/bgwizp.align',\n",
              " 'data/alignments/s1/bgwo2n.align',\n",
              " 'data/alignments/s1/bgwo3s.align',\n",
              " 'data/alignments/s1/bgwo4p.align',\n",
              " 'data/alignments/s1/bgwo5a.align',\n",
              " 'data/alignments/s1/bgwu6n.align',\n",
              " 'data/alignments/s1/bgwu7s.align',\n",
              " 'data/alignments/s1/bgwu8p.align',\n",
              " 'data/alignments/s1/bgwu9a.align',\n",
              " 'data/alignments/s1/braf8n.align',\n",
              " 'data/alignments/s1/braf9s.align',\n",
              " 'data/alignments/s1/brag1a.align',\n",
              " 'data/alignments/s1/bragzp.align',\n",
              " 'data/alignments/s1/bram2n.align',\n",
              " 'data/alignments/s1/bram3s.align',\n",
              " 'data/alignments/s1/bram4p.align',\n",
              " 'data/alignments/s1/bram5a.align',\n",
              " 'data/alignments/s1/bras6n.align',\n",
              " 'data/alignments/s1/bras7s.align',\n",
              " 'data/alignments/s1/bras8p.align',\n",
              " 'data/alignments/s1/bras9a.align',\n",
              " 'data/alignments/s1/brba1a.align',\n",
              " 'data/alignments/s1/brbazp.align',\n",
              " 'data/alignments/s1/brbg2n.align',\n",
              " 'data/alignments/s1/brbg3s.align',\n",
              " 'data/alignments/s1/brbg4p.align',\n",
              " 'data/alignments/s1/brbg5a.align',\n",
              " 'data/alignments/s1/brbm6n.align',\n",
              " 'data/alignments/s1/brbm7s.align',\n",
              " 'data/alignments/s1/brbm8p.align',\n",
              " 'data/alignments/s1/brbm9a.align',\n",
              " 'data/alignments/s1/brbt1s.align',\n",
              " 'data/alignments/s1/brbt2p.align',\n",
              " 'data/alignments/s1/brbt3a.align',\n",
              " 'data/alignments/s1/brbtzn.align',\n",
              " 'data/alignments/s1/brif4n.align',\n",
              " 'data/alignments/s1/brif5s.align',\n",
              " 'data/alignments/s1/brif6p.align',\n",
              " 'data/alignments/s1/brif7a.align',\n",
              " 'data/alignments/s1/bril8n.align',\n",
              " 'data/alignments/s1/bril9s.align',\n",
              " 'data/alignments/s1/brim1a.align',\n",
              " 'data/alignments/s1/brimzp.align',\n",
              " 'data/alignments/s1/bris2n.align',\n",
              " 'data/alignments/s1/bris3s.align',\n",
              " 'data/alignments/s1/bris4p.align',\n",
              " 'data/alignments/s1/bris5a.align',\n",
              " 'data/alignments/s1/briz6n.align',\n",
              " 'data/alignments/s1/briz7s.align',\n",
              " 'data/alignments/s1/briz8p.align',\n",
              " 'data/alignments/s1/briz9a.align',\n",
              " 'data/alignments/s1/brwa2n.align',\n",
              " 'data/alignments/s1/brwa3s.align',\n",
              " 'data/alignments/s1/brwa4p.align',\n",
              " 'data/alignments/s1/brwa5a.align',\n",
              " 'data/alignments/s1/brwg6n.align',\n",
              " 'data/alignments/s1/brwg7s.align',\n",
              " 'data/alignments/s1/brwg8p.align',\n",
              " 'data/alignments/s1/brwg9a.align',\n",
              " 'data/alignments/s1/brwn1s.align',\n",
              " 'data/alignments/s1/brwn2p.align',\n",
              " 'data/alignments/s1/brwn3a.align',\n",
              " 'data/alignments/s1/brwnzn.align',\n",
              " 'data/alignments/s1/brwt4n.align',\n",
              " 'data/alignments/s1/brwt5s.align',\n",
              " 'data/alignments/s1/brwt6p.align',\n",
              " 'data/alignments/s1/brwt7a.align',\n",
              " 'data/alignments/s1/bwaa1s.align',\n",
              " 'data/alignments/s1/bwaa2p.align',\n",
              " 'data/alignments/s1/bwaa3a.align',\n",
              " 'data/alignments/s1/bwaazn.align',\n",
              " 'data/alignments/s1/bwag4n.align',\n",
              " 'data/alignments/s1/bwag5s.align',\n",
              " 'data/alignments/s1/bwag6p.align',\n",
              " 'data/alignments/s1/bwag7a.align',\n",
              " 'data/alignments/s1/bwam8n.align',\n",
              " 'data/alignments/s1/bwam9s.align',\n",
              " 'data/alignments/s1/bwan1a.align',\n",
              " 'data/alignments/s1/bwanzp.align',\n",
              " 'data/alignments/s1/bwat2n.align',\n",
              " 'data/alignments/s1/bwat3s.align',\n",
              " 'data/alignments/s1/bwat4p.align',\n",
              " 'data/alignments/s1/bwat5a.align',\n",
              " 'data/alignments/s1/bwba4n.align',\n",
              " 'data/alignments/s1/bwba5s.align',\n",
              " 'data/alignments/s1/bwba6p.align',\n",
              " 'data/alignments/s1/bwba7a.align',\n",
              " 'data/alignments/s1/bwbg8n.align',\n",
              " 'data/alignments/s1/bwbg9s.align',\n",
              " 'data/alignments/s1/bwbh1a.align',\n",
              " 'data/alignments/s1/bwbhzp.align',\n",
              " 'data/alignments/s1/bwbn2n.align',\n",
              " 'data/alignments/s1/bwbn3s.align',\n",
              " 'data/alignments/s1/bwbn4p.align',\n",
              " 'data/alignments/s1/bwbn5a.align',\n",
              " 'data/alignments/s1/bwbt6n.align',\n",
              " 'data/alignments/s1/bwbt7s.align',\n",
              " 'data/alignments/s1/bwbt8p.align',\n",
              " 'data/alignments/s1/bwbt9a.align',\n",
              " 'data/alignments/s1/bwig1s.align',\n",
              " 'data/alignments/s1/bwig2p.align',\n",
              " 'data/alignments/s1/bwig3a.align',\n",
              " 'data/alignments/s1/bwigzn.align',\n",
              " 'data/alignments/s1/bwim4n.align',\n",
              " 'data/alignments/s1/bwim5s.align',\n",
              " 'data/alignments/s1/bwim6p.align',\n",
              " 'data/alignments/s1/bwim7a.align',\n",
              " 'data/alignments/s1/bwis8n.align',\n",
              " 'data/alignments/s1/bwis9s.align',\n",
              " 'data/alignments/s1/bwit1a.align',\n",
              " 'data/alignments/s1/bwitzp.align',\n",
              " 'data/alignments/s1/bwwa8n.align',\n",
              " 'data/alignments/s1/bwwa9s.align',\n",
              " 'data/alignments/s1/bwwb1a.align',\n",
              " 'data/alignments/s1/bwwbzp.align',\n",
              " 'data/alignments/s1/bwwh2n.align',\n",
              " 'data/alignments/s1/bwwh3s.align',\n",
              " 'data/alignments/s1/bwwh4p.align',\n",
              " 'data/alignments/s1/bwwh5a.align',\n",
              " 'data/alignments/s1/bwwn6n.align',\n",
              " 'data/alignments/s1/bwwn7s.align',\n",
              " 'data/alignments/s1/bwwn8p.align',\n",
              " 'data/alignments/s1/bwwn9a.align',\n",
              " 'data/alignments/s1/bwwu1s.align',\n",
              " 'data/alignments/s1/bwwu2p.align',\n",
              " 'data/alignments/s1/bwwu3a.align',\n",
              " 'data/alignments/s1/bwwuzn.align',\n",
              " 'data/alignments/s1/lbad6n.align',\n",
              " 'data/alignments/s1/lbad7s.align',\n",
              " 'data/alignments/s1/lbad8p.align',\n",
              " 'data/alignments/s1/lbad9a.align',\n",
              " 'data/alignments/s1/lbak1s.align',\n",
              " 'data/alignments/s1/lbak2p.align',\n",
              " 'data/alignments/s1/lbak3a.align',\n",
              " 'data/alignments/s1/lbakzn.align',\n",
              " 'data/alignments/s1/lbaq4n.align',\n",
              " 'data/alignments/s1/lbaq5s.align',\n",
              " 'data/alignments/s1/lbaq6p.align',\n",
              " 'data/alignments/s1/lbaq7a.align',\n",
              " 'data/alignments/s1/lbax8n.align',\n",
              " 'data/alignments/s1/lbax9s.align',\n",
              " 'data/alignments/s1/lbay1a.align',\n",
              " 'data/alignments/s1/lbayzp.align',\n",
              " 'data/alignments/s1/lbbe1s.align',\n",
              " 'data/alignments/s1/lbbe2p.align',\n",
              " 'data/alignments/s1/lbbe3a.align',\n",
              " 'data/alignments/s1/lbbezn.align',\n",
              " 'data/alignments/s1/lbbk4n.align',\n",
              " 'data/alignments/s1/lbbk5s.align',\n",
              " 'data/alignments/s1/lbbk6p.align',\n",
              " 'data/alignments/s1/lbbk7a.align',\n",
              " 'data/alignments/s1/lbbq8n.align',\n",
              " 'data/alignments/s1/lbbq9s.align',\n",
              " 'data/alignments/s1/lbbr1a.align',\n",
              " 'data/alignments/s1/lbbrzp.align',\n",
              " 'data/alignments/s1/lbby2n.align',\n",
              " 'data/alignments/s1/lbby3s.align',\n",
              " 'data/alignments/s1/lbby4p.align',\n",
              " 'data/alignments/s1/lbby5a.align',\n",
              " 'data/alignments/s1/lbid2n.align',\n",
              " 'data/alignments/s1/lbid3s.align',\n",
              " 'data/alignments/s1/lbid4p.align',\n",
              " 'data/alignments/s1/lbid5a.align',\n",
              " 'data/alignments/s1/lbij6n.align',\n",
              " 'data/alignments/s1/lbij7s.align',\n",
              " 'data/alignments/s1/lbij8p.align',\n",
              " 'data/alignments/s1/lbij9a.align',\n",
              " 'data/alignments/s1/lbiq1s.align',\n",
              " 'data/alignments/s1/lbiq2p.align',\n",
              " 'data/alignments/s1/lbiq3a.align',\n",
              " 'data/alignments/s1/lbiqzn.align',\n",
              " 'data/alignments/s1/lbix4n.align',\n",
              " 'data/alignments/s1/lbix5s.align',\n",
              " 'data/alignments/s1/lbix6p.align',\n",
              " 'data/alignments/s1/lbix7a.align',\n",
              " 'data/alignments/s1/lbwe4n.align',\n",
              " 'data/alignments/s1/lbwe5s.align',\n",
              " 'data/alignments/s1/lbwe6p.align',\n",
              " 'data/alignments/s1/lbwe7a.align',\n",
              " 'data/alignments/s1/lbwk8n.align',\n",
              " 'data/alignments/s1/lbwk9s.align',\n",
              " 'data/alignments/s1/lbwl1a.align',\n",
              " 'data/alignments/s1/lbwlzp.align',\n",
              " 'data/alignments/s1/lbwr2n.align',\n",
              " 'data/alignments/s1/lbwr3s.align',\n",
              " 'data/alignments/s1/lbwr4p.align',\n",
              " 'data/alignments/s1/lbwr5a.align',\n",
              " 'data/alignments/s1/lbwy6n.align',\n",
              " 'data/alignments/s1/lbwy7s.align',\n",
              " 'data/alignments/s1/lbwy8p.align',\n",
              " 'data/alignments/s1/lbwy9a.align',\n",
              " 'data/alignments/s1/lgaf4n.align',\n",
              " 'data/alignments/s1/lgaf5s.align',\n",
              " 'data/alignments/s1/lgaf6p.align',\n",
              " 'data/alignments/s1/lgaf7a.align',\n",
              " 'data/alignments/s1/lgal8n.align',\n",
              " 'data/alignments/s1/lgal9s.align',\n",
              " 'data/alignments/s1/lgam1a.align',\n",
              " 'data/alignments/s1/lgamzp.align',\n",
              " 'data/alignments/s1/lgas2n.align',\n",
              " 'data/alignments/s1/lgas3s.align',\n",
              " 'data/alignments/s1/lgas4p.align',\n",
              " 'data/alignments/s1/lgas5a.align',\n",
              " 'data/alignments/s1/lgaz6n.align',\n",
              " 'data/alignments/s1/lgaz7s.align',\n",
              " 'data/alignments/s1/lgaz8p.align',\n",
              " 'data/alignments/s1/lgaz9a.align',\n",
              " 'data/alignments/s1/lgbf8n.align',\n",
              " 'data/alignments/s1/lgbf9s.align',\n",
              " 'data/alignments/s1/lgbg1a.align',\n",
              " 'data/alignments/s1/lgbgzp.align',\n",
              " 'data/alignments/s1/lgbm2n.align',\n",
              " 'data/alignments/s1/lgbm3s.align',\n",
              " 'data/alignments/s1/lgbm4p.align',\n",
              " 'data/alignments/s1/lgbm5a.align',\n",
              " 'data/alignments/s1/lgbs6n.align',\n",
              " 'data/alignments/s1/lgbs7s.align',\n",
              " 'data/alignments/s1/lgbs8p.align',\n",
              " 'data/alignments/s1/lgbs9a.align',\n",
              " 'data/alignments/s1/lgif1s.align',\n",
              " 'data/alignments/s1/lgif2p.align',\n",
              " 'data/alignments/s1/lgif3a.align',\n",
              " 'data/alignments/s1/lgifzn.align',\n",
              " 'data/alignments/s1/lgil4n.align',\n",
              " 'data/alignments/s1/lgil5s.align',\n",
              " 'data/alignments/s1/lgil6p.align',\n",
              " 'data/alignments/s1/lgil7a.align',\n",
              " 'data/alignments/s1/lgir8n.align',\n",
              " 'data/alignments/s1/lgir9s.align',\n",
              " 'data/alignments/s1/lgis1a.align',\n",
              " 'data/alignments/s1/lgiszp.align',\n",
              " 'data/alignments/s1/lgiz2n.align',\n",
              " 'data/alignments/s1/lgiz3s.align',\n",
              " 'data/alignments/s1/lgiz4p.align',\n",
              " 'data/alignments/s1/lgiz5a.align',\n",
              " 'data/alignments/s1/lgwa1a.align',\n",
              " 'data/alignments/s1/lgwazp.align',\n",
              " 'data/alignments/s1/lgwg2n.align',\n",
              " 'data/alignments/s1/lgwg3s.align',\n",
              " 'data/alignments/s1/lgwg4p.align',\n",
              " 'data/alignments/s1/lgwg5a.align',\n",
              " 'data/alignments/s1/lgwm6n.align',\n",
              " 'data/alignments/s1/lgwm7s.align',\n",
              " 'data/alignments/s1/lgwm8p.align',\n",
              " 'data/alignments/s1/lgwm9a.align',\n",
              " 'data/alignments/s1/lgwt1s.align',\n",
              " 'data/alignments/s1/lgwt2p.align',\n",
              " 'data/alignments/s1/lgwt3a.align',\n",
              " 'data/alignments/s1/lgwtzn.align',\n",
              " 'data/alignments/s1/lrae2n.align',\n",
              " 'data/alignments/s1/lrae3s.align',\n",
              " 'data/alignments/s1/lrae4p.align',\n",
              " 'data/alignments/s1/lrae5a.align',\n",
              " 'data/alignments/s1/lrak6n.align',\n",
              " 'data/alignments/s1/lrak7s.align',\n",
              " 'data/alignments/s1/lrak8p.align',\n",
              " 'data/alignments/s1/lrak9a.align',\n",
              " 'data/alignments/s1/lrar1s.align',\n",
              " 'data/alignments/s1/lrar2p.align',\n",
              " 'data/alignments/s1/lrar3a.align',\n",
              " 'data/alignments/s1/lrarzn.align',\n",
              " 'data/alignments/s1/lray4n.align',\n",
              " 'data/alignments/s1/lray5s.align',\n",
              " 'data/alignments/s1/lray6p.align',\n",
              " 'data/alignments/s1/lray7a.align',\n",
              " 'data/alignments/s1/lrbe6n.align',\n",
              " 'data/alignments/s1/lrbe7s.align',\n",
              " 'data/alignments/s1/lrbe8p.align',\n",
              " 'data/alignments/s1/lrbe9a.align',\n",
              " 'data/alignments/s1/lrbl1s.align',\n",
              " 'data/alignments/s1/lrbl2p.align',\n",
              " 'data/alignments/s1/lrbl3a.align',\n",
              " 'data/alignments/s1/lrblzn.align',\n",
              " 'data/alignments/s1/lrbr4n.align',\n",
              " 'data/alignments/s1/lrbr5s.align',\n",
              " 'data/alignments/s1/lrbr6p.align',\n",
              " 'data/alignments/s1/lrbr7a.align',\n",
              " 'data/alignments/s1/lrby8n.align',\n",
              " 'data/alignments/s1/lrby9s.align',\n",
              " 'data/alignments/s1/lrbz1a.align',\n",
              " 'data/alignments/s1/lrbzzp.align',\n",
              " 'data/alignments/s1/lrid8n.align',\n",
              " 'data/alignments/s1/lrid9s.align',\n",
              " 'data/alignments/s1/lrie1a.align',\n",
              " 'data/alignments/s1/lriezp.align',\n",
              " 'data/alignments/s1/lrik2n.align',\n",
              " 'data/alignments/s1/lrik3s.align',\n",
              " 'data/alignments/s1/lrik4p.align',\n",
              " 'data/alignments/s1/lrik5a.align',\n",
              " 'data/alignments/s1/lriq6n.align',\n",
              " 'data/alignments/s1/lriq7s.align',\n",
              " 'data/alignments/s1/lriq8p.align',\n",
              " 'data/alignments/s1/lriq9a.align',\n",
              " 'data/alignments/s1/lriy1s.align',\n",
              " 'data/alignments/s1/lriy2p.align',\n",
              " 'data/alignments/s1/lriy3a.align',\n",
              " 'data/alignments/s1/lriyzn.align',\n",
              " 'data/alignments/s1/lrwf1s.align',\n",
              " 'data/alignments/s1/lrwf2p.align',\n",
              " 'data/alignments/s1/lrwf3a.align',\n",
              " 'data/alignments/s1/lrwfzn.align',\n",
              " 'data/alignments/s1/lrwl4n.align',\n",
              " 'data/alignments/s1/lrwl5s.align',\n",
              " 'data/alignments/s1/lrwl6p.align',\n",
              " 'data/alignments/s1/lrwl7a.align',\n",
              " 'data/alignments/s1/lrwr8n.align',\n",
              " 'data/alignments/s1/lrwr9s.align',\n",
              " 'data/alignments/s1/lrws1a.align',\n",
              " 'data/alignments/s1/lrwszp.align',\n",
              " 'data/alignments/s1/lrwz2n.align',\n",
              " 'data/alignments/s1/lrwz3s.align',\n",
              " 'data/alignments/s1/lrwz4p.align',\n",
              " 'data/alignments/s1/lrwz5a.align',\n",
              " 'data/alignments/s1/lwae8n.align',\n",
              " 'data/alignments/s1/lwae9s.align',\n",
              " 'data/alignments/s1/lwaf1a.align',\n",
              " 'data/alignments/s1/lwafzp.align',\n",
              " 'data/alignments/s1/lwal2n.align',\n",
              " 'data/alignments/s1/lwal3s.align',\n",
              " 'data/alignments/s1/lwal4p.align',\n",
              " 'data/alignments/s1/lwal5a.align',\n",
              " 'data/alignments/s1/lwar6n.align',\n",
              " 'data/alignments/s1/lwar7s.align',\n",
              " 'data/alignments/s1/lwar8p.align',\n",
              " 'data/alignments/s1/lwar9a.align',\n",
              " 'data/alignments/s1/lwaz1s.align',\n",
              " 'data/alignments/s1/lwaz2p.align',\n",
              " 'data/alignments/s1/lwaz3a.align',\n",
              " 'data/alignments/s1/lwazzn.align',\n",
              " 'data/alignments/s1/lwbf2n.align',\n",
              " 'data/alignments/s1/lwbf3s.align',\n",
              " 'data/alignments/s1/lwbf4p.align',\n",
              " 'data/alignments/s1/lwbf5a.align',\n",
              " 'data/alignments/s1/lwbl6n.align',\n",
              " 'data/alignments/s1/lwbl7s.align',\n",
              " 'data/alignments/s1/lwbl8p.align',\n",
              " 'data/alignments/s1/lwbl9a.align',\n",
              " 'data/alignments/s1/lwbs1s.align',\n",
              " 'data/alignments/s1/lwbs2p.align',\n",
              " 'data/alignments/s1/lwbs3a.align',\n",
              " 'data/alignments/s1/lwbszn.align',\n",
              " 'data/alignments/s1/lwbz4n.align',\n",
              " 'data/alignments/s1/lwbz5s.align',\n",
              " 'data/alignments/s1/lwbz6p.align',\n",
              " 'data/alignments/s1/lwbz7a.align',\n",
              " 'data/alignments/s1/lwie4n.align',\n",
              " 'data/alignments/s1/lwie5s.align',\n",
              " 'data/alignments/s1/lwie6p.align',\n",
              " 'data/alignments/s1/lwie7a.align',\n",
              " 'data/alignments/s1/lwik8n.align',\n",
              " 'data/alignments/s1/lwik9s.align',\n",
              " 'data/alignments/s1/lwil1a.align',\n",
              " 'data/alignments/s1/lwilzp.align',\n",
              " 'data/alignments/s1/lwir2n.align',\n",
              " 'data/alignments/s1/lwir3s.align',\n",
              " 'data/alignments/s1/lwir4p.align',\n",
              " 'data/alignments/s1/lwir5a.align',\n",
              " 'data/alignments/s1/lwiy6n.align',\n",
              " 'data/alignments/s1/lwiy7s.align',\n",
              " 'data/alignments/s1/lwiy8p.align',\n",
              " 'data/alignments/s1/lwiy9a.align',\n",
              " 'data/alignments/s1/lwwf6n.align',\n",
              " 'data/alignments/s1/lwwf7s.align',\n",
              " 'data/alignments/s1/lwwf8p.align',\n",
              " 'data/alignments/s1/lwwf9a.align',\n",
              " 'data/alignments/s1/lwwm1s.align',\n",
              " 'data/alignments/s1/lwwm2p.align',\n",
              " 'data/alignments/s1/lwwm3a.align',\n",
              " 'data/alignments/s1/lwwmzn.align',\n",
              " 'data/alignments/s1/lwws4n.align',\n",
              " 'data/alignments/s1/lwws5s.align',\n",
              " 'data/alignments/s1/lwws6p.align',\n",
              " 'data/alignments/s1/lwws7a.align',\n",
              " 'data/alignments/s1/lwwz8n.align',\n",
              " 'data/alignments/s1/lwwz9s.align',\n",
              " 'data/alignments/s1/pbac1s.align',\n",
              " 'data/alignments/s1/pbac2p.align',\n",
              " 'data/alignments/s1/pbac3a.align',\n",
              " 'data/alignments/s1/pbaczn.align',\n",
              " 'data/alignments/s1/pbai4n.align',\n",
              " 'data/alignments/s1/pbai5s.align',\n",
              " 'data/alignments/s1/pbai6p.align',\n",
              " 'data/alignments/s1/pbai7a.align',\n",
              " 'data/alignments/s1/pbao8n.align',\n",
              " 'data/alignments/s1/pbao9s.align',\n",
              " 'data/alignments/s1/pbap1a.align',\n",
              " 'data/alignments/s1/pbapzp.align',\n",
              " 'data/alignments/s1/pbav2n.align',\n",
              " 'data/alignments/s1/pbav3s.align',\n",
              " 'data/alignments/s1/pbav4p.align',\n",
              " 'data/alignments/s1/pbav5a.align',\n",
              " 'data/alignments/s1/pbbc4n.align',\n",
              " 'data/alignments/s1/pbbc5s.align',\n",
              " 'data/alignments/s1/pbbc6p.align',\n",
              " 'data/alignments/s1/pbbc7a.align',\n",
              " 'data/alignments/s1/pbbi8n.align',\n",
              " 'data/alignments/s1/pbbi9s.align',\n",
              " 'data/alignments/s1/pbbj1a.align',\n",
              " 'data/alignments/s1/pbbjzp.align',\n",
              " 'data/alignments/s1/pbbp2n.align',\n",
              " 'data/alignments/s1/pbbp3s.align',\n",
              " 'data/alignments/s1/pbbp4p.align',\n",
              " 'data/alignments/s1/pbbp5a.align',\n",
              " 'data/alignments/s1/pbbv6n.align',\n",
              " 'data/alignments/s1/pbbv7s.align',\n",
              " 'data/alignments/s1/pbbv8p.align',\n",
              " 'data/alignments/s1/pbbv9a.align',\n",
              " 'data/alignments/s1/pbib6n.align',\n",
              " 'data/alignments/s1/pbib7s.align',\n",
              " 'data/alignments/s1/pbib8p.align',\n",
              " 'data/alignments/s1/pbib9a.align',\n",
              " 'data/alignments/s1/pbii1s.align',\n",
              " 'data/alignments/s1/pbii2p.align',\n",
              " 'data/alignments/s1/pbii3a.align',\n",
              " 'data/alignments/s1/pbiizn.align',\n",
              " 'data/alignments/s1/pbio4n.align',\n",
              " 'data/alignments/s1/pbio5s.align',\n",
              " 'data/alignments/s1/pbio6p.align',\n",
              " 'data/alignments/s1/pbio7a.align',\n",
              " 'data/alignments/s1/pbiu8n.align',\n",
              " 'data/alignments/s1/pbiu9s.align',\n",
              " 'data/alignments/s1/pbiv1a.align',\n",
              " 'data/alignments/s1/pbivzp.align',\n",
              " 'data/alignments/s1/pbwc8n.align',\n",
              " 'data/alignments/s1/pbwc9s.align',\n",
              " 'data/alignments/s1/pbwd1a.align',\n",
              " 'data/alignments/s1/pbwdzp.align',\n",
              " 'data/alignments/s1/pbwj2n.align',\n",
              " 'data/alignments/s1/pbwj3s.align',\n",
              " 'data/alignments/s1/pbwj4p.align',\n",
              " 'data/alignments/s1/pbwj5a.align',\n",
              " 'data/alignments/s1/pbwp6n.align',\n",
              " 'data/alignments/s1/pbwp7s.align',\n",
              " 'data/alignments/s1/pbwp8p.align',\n",
              " 'data/alignments/s1/pbwp9a.align',\n",
              " 'data/alignments/s1/pbwx1s.align',\n",
              " 'data/alignments/s1/pbwx2p.align',\n",
              " 'data/alignments/s1/pbwx3a.align',\n",
              " 'data/alignments/s1/pbwxzn.align',\n",
              " 'data/alignments/s1/pgad8n.align',\n",
              " 'data/alignments/s1/pgad9s.align',\n",
              " 'data/alignments/s1/pgae1a.align',\n",
              " 'data/alignments/s1/pgaezp.align',\n",
              " 'data/alignments/s1/pgak2n.align',\n",
              " 'data/alignments/s1/pgak3s.align',\n",
              " 'data/alignments/s1/pgak4p.align',\n",
              " 'data/alignments/s1/pgak5a.align',\n",
              " 'data/alignments/s1/pgaq6n.align',\n",
              " 'data/alignments/s1/pgaq7s.align',\n",
              " 'data/alignments/s1/pgaq8p.align',\n",
              " 'data/alignments/s1/pgaq9a.align',\n",
              " 'data/alignments/s1/pgay1s.align',\n",
              " 'data/alignments/s1/pgay2p.align',\n",
              " 'data/alignments/s1/pgay3a.align',\n",
              " 'data/alignments/s1/pgayzn.align',\n",
              " 'data/alignments/s1/pgbe2n.align',\n",
              " 'data/alignments/s1/pgbe3s.align',\n",
              " 'data/alignments/s1/pgbe4p.align',\n",
              " 'data/alignments/s1/pgbe5a.align',\n",
              " 'data/alignments/s1/pgbk6n.align',\n",
              " 'data/alignments/s1/pgbk7s.align',\n",
              " 'data/alignments/s1/pgbk8p.align',\n",
              " 'data/alignments/s1/pgbk9a.align',\n",
              " 'data/alignments/s1/pgbr1s.align',\n",
              " 'data/alignments/s1/pgbr2p.align',\n",
              " 'data/alignments/s1/pgbr3a.align',\n",
              " 'data/alignments/s1/pgbrzn.align',\n",
              " 'data/alignments/s1/pgby4n.align',\n",
              " 'data/alignments/s1/pgby5s.align',\n",
              " 'data/alignments/s1/pgby6p.align',\n",
              " 'data/alignments/s1/pgby7a.align',\n",
              " 'data/alignments/s1/pgid4n.align',\n",
              " 'data/alignments/s1/pgid5s.align',\n",
              " 'data/alignments/s1/pgid6p.align',\n",
              " 'data/alignments/s1/pgid7a.align',\n",
              " 'data/alignments/s1/pgij8n.align',\n",
              " 'data/alignments/s1/pgij9s.align',\n",
              " 'data/alignments/s1/pgik1a.align',\n",
              " 'data/alignments/s1/pgikzp.align',\n",
              " 'data/alignments/s1/pgiq2n.align',\n",
              " 'data/alignments/s1/pgiq3s.align',\n",
              " 'data/alignments/s1/pgiq4p.align',\n",
              " 'data/alignments/s1/pgiq5a.align',\n",
              " 'data/alignments/s1/pgix6n.align',\n",
              " 'data/alignments/s1/pgix7s.align',\n",
              " 'data/alignments/s1/pgix8p.align',\n",
              " 'data/alignments/s1/pgix9a.align',\n",
              " 'data/alignments/s1/pgwe6n.align',\n",
              " 'data/alignments/s1/pgwe7s.align',\n",
              " 'data/alignments/s1/pgwe8p.align',\n",
              " 'data/alignments/s1/pgwe9a.align',\n",
              " 'data/alignments/s1/pgwl1s.align',\n",
              " 'data/alignments/s1/pgwl2p.align',\n",
              " 'data/alignments/s1/pgwl3a.align',\n",
              " 'data/alignments/s1/pgwlzn.align',\n",
              " 'data/alignments/s1/pgwr4n.align',\n",
              " 'data/alignments/s1/pgwr5s.align',\n",
              " 'data/alignments/s1/pgwr6p.align',\n",
              " 'data/alignments/s1/pgwr7a.align',\n",
              " 'data/alignments/s1/pgwy8n.align',\n",
              " 'data/alignments/s1/pgwy9s.align',\n",
              " 'data/alignments/s1/pgwz1a.align',\n",
              " 'data/alignments/s1/pgwzzp.align',\n",
              " 'data/alignments/s1/prac6n.align',\n",
              " 'data/alignments/s1/prac7s.align',\n",
              " 'data/alignments/s1/prac8p.align',\n",
              " 'data/alignments/s1/prac9a.align',\n",
              " 'data/alignments/s1/praj1s.align',\n",
              " 'data/alignments/s1/praj2p.align',\n",
              " 'data/alignments/s1/praj3a.align',\n",
              " 'data/alignments/s1/prajzn.align',\n",
              " 'data/alignments/s1/prap4n.align',\n",
              " 'data/alignments/s1/prap5s.align',\n",
              " 'data/alignments/s1/prap6p.align',\n",
              " 'data/alignments/s1/prap7a.align',\n",
              " 'data/alignments/s1/prav8n.align',\n",
              " 'data/alignments/s1/prav9s.align',\n",
              " 'data/alignments/s1/prax1a.align',\n",
              " 'data/alignments/s1/praxzp.align',\n",
              " 'data/alignments/s1/prbd1s.align',\n",
              " 'data/alignments/s1/prbd2p.align',\n",
              " 'data/alignments/s1/prbd3a.align',\n",
              " 'data/alignments/s1/prbdzn.align',\n",
              " 'data/alignments/s1/prbj4n.align',\n",
              " 'data/alignments/s1/prbj5s.align',\n",
              " 'data/alignments/s1/prbj6p.align',\n",
              " 'data/alignments/s1/prbj7a.align',\n",
              " 'data/alignments/s1/prbp8n.align',\n",
              " 'data/alignments/s1/prbp9s.align',\n",
              " 'data/alignments/s1/prbq1a.align',\n",
              " 'data/alignments/s1/prbqzp.align',\n",
              " 'data/alignments/s1/prbx2n.align',\n",
              " 'data/alignments/s1/prbx3s.align',\n",
              " 'data/alignments/s1/prbx4p.align',\n",
              " 'data/alignments/s1/prbx5a.align',\n",
              " 'data/alignments/s1/pric2n.align',\n",
              " 'data/alignments/s1/pric3s.align',\n",
              " 'data/alignments/s1/pric4p.align',\n",
              " 'data/alignments/s1/pric5a.align',\n",
              " 'data/alignments/s1/prii6n.align',\n",
              " 'data/alignments/s1/prii7s.align',\n",
              " 'data/alignments/s1/prii8p.align',\n",
              " 'data/alignments/s1/prii9a.align',\n",
              " 'data/alignments/s1/prip1s.align',\n",
              " 'data/alignments/s1/prip2p.align',\n",
              " 'data/alignments/s1/prip3a.align',\n",
              " 'data/alignments/s1/pripzn.align',\n",
              " 'data/alignments/s1/priv4n.align',\n",
              " 'data/alignments/s1/priv5s.align',\n",
              " 'data/alignments/s1/priv6p.align',\n",
              " 'data/alignments/s1/priv7a.align',\n",
              " 'data/alignments/s1/prwd4n.align',\n",
              " 'data/alignments/s1/prwd5s.align',\n",
              " 'data/alignments/s1/prwd6p.align',\n",
              " 'data/alignments/s1/prwd7a.align',\n",
              " 'data/alignments/s1/prwj8n.align',\n",
              " 'data/alignments/s1/prwj9s.align',\n",
              " 'data/alignments/s1/prwk1a.align',\n",
              " 'data/alignments/s1/prwkzp.align',\n",
              " 'data/alignments/s1/prwq2n.align',\n",
              " 'data/alignments/s1/prwq3s.align',\n",
              " 'data/alignments/s1/prwq4p.align',\n",
              " 'data/alignments/s1/prwq5a.align',\n",
              " 'data/alignments/s1/prwx6n.align',\n",
              " 'data/alignments/s1/prwx7s.align',\n",
              " 'data/alignments/s1/prwx8p.align',\n",
              " 'data/alignments/s1/prwx9a.align',\n",
              " 'data/alignments/s1/pwad2n.align',\n",
              " 'data/alignments/s1/pwad3s.align',\n",
              " 'data/alignments/s1/pwad4p.align',\n",
              " 'data/alignments/s1/pwad5a.align',\n",
              " 'data/alignments/s1/pwaj6n.align',\n",
              " 'data/alignments/s1/pwaj7s.align',\n",
              " 'data/alignments/s1/pwaj8p.align',\n",
              " 'data/alignments/s1/pwaj9a.align',\n",
              " 'data/alignments/s1/pwaq1s.align',\n",
              " 'data/alignments/s1/pwaq2p.align',\n",
              " 'data/alignments/s1/pwaq3a.align',\n",
              " 'data/alignments/s1/pwaqzn.align',\n",
              " 'data/alignments/s1/pwax4n.align',\n",
              " 'data/alignments/s1/pwax5s.align',\n",
              " 'data/alignments/s1/pwax6p.align',\n",
              " 'data/alignments/s1/pwax7a.align',\n",
              " 'data/alignments/s1/pwbd6n.align',\n",
              " 'data/alignments/s1/pwbd7s.align',\n",
              " 'data/alignments/s1/pwbd8p.align',\n",
              " 'data/alignments/s1/pwbd9a.align',\n",
              " 'data/alignments/s1/pwbk1s.align',\n",
              " 'data/alignments/s1/pwbk2p.align',\n",
              " 'data/alignments/s1/pwbk3a.align',\n",
              " 'data/alignments/s1/pwbkzn.align',\n",
              " 'data/alignments/s1/pwbq4n.align',\n",
              " 'data/alignments/s1/pwbq5s.align',\n",
              " 'data/alignments/s1/pwbq6p.align',\n",
              " 'data/alignments/s1/pwbq7a.align',\n",
              " 'data/alignments/s1/pwbx8n.align',\n",
              " 'data/alignments/s1/pwbx9s.align',\n",
              " 'data/alignments/s1/pwby1a.align',\n",
              " 'data/alignments/s1/pwbyzp.align',\n",
              " 'data/alignments/s1/pwic8n.align',\n",
              " 'data/alignments/s1/pwic9s.align',\n",
              " 'data/alignments/s1/pwid1a.align',\n",
              " 'data/alignments/s1/pwidzp.align',\n",
              " 'data/alignments/s1/pwij2n.align',\n",
              " 'data/alignments/s1/pwij3s.align',\n",
              " 'data/alignments/s1/pwij4p.align',\n",
              " 'data/alignments/s1/pwij5a.align',\n",
              " 'data/alignments/s1/pwip6n.align',\n",
              " 'data/alignments/s1/pwip7s.align',\n",
              " 'data/alignments/s1/pwip8p.align',\n",
              " 'data/alignments/s1/pwip9a.align',\n",
              " 'data/alignments/s1/pwix1s.align',\n",
              " 'data/alignments/s1/pwix2p.align',\n",
              " 'data/alignments/s1/pwix3a.align',\n",
              " 'data/alignments/s1/pwixzn.align',\n",
              " 'data/alignments/s1/pwwe1s.align',\n",
              " 'data/alignments/s1/pwwe2p.align',\n",
              " 'data/alignments/s1/pwwe3a.align',\n",
              " 'data/alignments/s1/pwwezn.align',\n",
              " 'data/alignments/s1/pwwk4n.align',\n",
              " 'data/alignments/s1/pwwk5s.align',\n",
              " 'data/alignments/s1/pwwk6p.align',\n",
              " 'data/alignments/s1/pwwk7a.align',\n",
              " 'data/alignments/s1/pwwq8n.align',\n",
              " 'data/alignments/s1/pwwq9s.align',\n",
              " 'data/alignments/s1/pwwr1a.align',\n",
              " 'data/alignments/s1/pwwrzp.align',\n",
              " 'data/alignments/s1/pwwy2n.align',\n",
              " 'data/alignments/s1/pwwy3s.align',\n",
              " 'data/alignments/s1/pwwy4p.align',\n",
              " 'data/alignments/s1/pwwy5a.align',\n",
              " 'data/alignments/s1/sbaa4n.align',\n",
              " 'data/alignments/s1/sbaa5s.align',\n",
              " 'data/alignments/s1/sbaa6p.align',\n",
              " 'data/alignments/s1/sbaa7a.align',\n",
              " 'data/alignments/s1/sbag8n.align',\n",
              " 'data/alignments/s1/sbag9s.align',\n",
              " 'data/alignments/s1/sbah1a.align',\n",
              " 'data/alignments/s1/sbahzp.align',\n",
              " 'data/alignments/s1/sban2n.align',\n",
              " 'data/alignments/s1/sban3s.align',\n",
              " 'data/alignments/s1/sban4p.align',\n",
              " 'data/alignments/s1/sban5a.align',\n",
              " 'data/alignments/s1/sbat6n.align',\n",
              " 'data/alignments/s1/sbat7s.align',\n",
              " 'data/alignments/s1/sbat8p.align',\n",
              " 'data/alignments/s1/sbat9a.align',\n",
              " 'data/alignments/s1/sbba8n.align',\n",
              " 'data/alignments/s1/sbba9s.align',\n",
              " 'data/alignments/s1/sbbb1a.align',\n",
              " 'data/alignments/s1/sbbbzp.align',\n",
              " 'data/alignments/s1/sbbh2n.align',\n",
              " 'data/alignments/s1/sbbh3s.align',\n",
              " 'data/alignments/s1/sbbh4p.align',\n",
              " 'data/alignments/s1/sbbh5a.align',\n",
              " 'data/alignments/s1/sbbn6n.align',\n",
              " 'data/alignments/s1/sbbn7s.align',\n",
              " 'data/alignments/s1/sbbn8p.align',\n",
              " 'data/alignments/s1/sbbn9a.align',\n",
              " 'data/alignments/s1/sbbu1s.align',\n",
              " 'data/alignments/s1/sbbu2p.align',\n",
              " 'data/alignments/s1/sbbu3a.align',\n",
              " 'data/alignments/s1/sbbuzn.align',\n",
              " 'data/alignments/s1/sbia1s.align',\n",
              " 'data/alignments/s1/sbia2p.align',\n",
              " 'data/alignments/s1/sbia3a.align',\n",
              " 'data/alignments/s1/sbiazn.align',\n",
              " 'data/alignments/s1/sbig4n.align',\n",
              " 'data/alignments/s1/sbig5s.align',\n",
              " 'data/alignments/s1/sbig6p.align',\n",
              " 'data/alignments/s1/sbig7a.align',\n",
              " 'data/alignments/s1/sbim8n.align',\n",
              " 'data/alignments/s1/sbim9s.align',\n",
              " 'data/alignments/s1/sbin1a.align',\n",
              " 'data/alignments/s1/sbinzp.align',\n",
              " 'data/alignments/s1/sbit2n.align',\n",
              " 'data/alignments/s1/sbit3s.align',\n",
              " 'data/alignments/s1/sbit4p.align',\n",
              " 'data/alignments/s1/sbit5a.align',\n",
              " 'data/alignments/s1/sbwb2n.align',\n",
              " 'data/alignments/s1/sbwb3s.align',\n",
              " 'data/alignments/s1/sbwb4p.align',\n",
              " 'data/alignments/s1/sbwb5a.align',\n",
              " 'data/alignments/s1/sbwh6n.align',\n",
              " 'data/alignments/s1/sbwh7s.align',\n",
              " 'data/alignments/s1/sbwh8p.align',\n",
              " 'data/alignments/s1/sbwh9a.align',\n",
              " 'data/alignments/s1/sbwo1s.align',\n",
              " 'data/alignments/s1/sbwo2p.align',\n",
              " 'data/alignments/s1/sbwo3a.align',\n",
              " 'data/alignments/s1/sbwozn.align',\n",
              " 'data/alignments/s1/sbwu4n.align',\n",
              " 'data/alignments/s1/sbwu5s.align',\n",
              " 'data/alignments/s1/sbwu6p.align',\n",
              " 'data/alignments/s1/sbwu7a.align',\n",
              " 'data/alignments/s1/sgac2n.align',\n",
              " 'data/alignments/s1/sgac3s.align',\n",
              " 'data/alignments/s1/sgac4p.align',\n",
              " 'data/alignments/s1/sgac5a.align',\n",
              " 'data/alignments/s1/sgai6n.align',\n",
              " 'data/alignments/s1/sgai7s.align',\n",
              " 'data/alignments/s1/sgai8p.align',\n",
              " 'data/alignments/s1/sgai9a.align',\n",
              " 'data/alignments/s1/sgap1s.align',\n",
              " 'data/alignments/s1/sgap2p.align',\n",
              " 'data/alignments/s1/sgap3a.align',\n",
              " 'data/alignments/s1/sgapzn.align',\n",
              " 'data/alignments/s1/sgav4n.align',\n",
              " 'data/alignments/s1/sgav5s.align',\n",
              " 'data/alignments/s1/sgav6p.align',\n",
              " 'data/alignments/s1/sgav7a.align',\n",
              " 'data/alignments/s1/sgbc6n.align',\n",
              " 'data/alignments/s1/sgbc7s.align',\n",
              " 'data/alignments/s1/sgbc8p.align',\n",
              " 'data/alignments/s1/sgbc9a.align',\n",
              " 'data/alignments/s1/sgbj1s.align',\n",
              " 'data/alignments/s1/sgbj2p.align',\n",
              " 'data/alignments/s1/sgbj3a.align',\n",
              " 'data/alignments/s1/sgbjzn.align',\n",
              " 'data/alignments/s1/sgbp4n.align',\n",
              " 'data/alignments/s1/sgbp5s.align',\n",
              " 'data/alignments/s1/sgbp6p.align',\n",
              " 'data/alignments/s1/sgbp7a.align',\n",
              " 'data/alignments/s1/sgbv8n.align',\n",
              " 'data/alignments/s1/sgbv9s.align',\n",
              " 'data/alignments/s1/sgbx1a.align',\n",
              " 'data/alignments/s1/sgbxzp.align',\n",
              " 'data/alignments/s1/sgib8n.align',\n",
              " 'data/alignments/s1/sgib9s.align',\n",
              " 'data/alignments/s1/sgic1a.align',\n",
              " 'data/alignments/s1/sgiczp.align',\n",
              " 'data/alignments/s1/sgii2n.align',\n",
              " 'data/alignments/s1/sgii3s.align',\n",
              " 'data/alignments/s1/sgii4p.align',\n",
              " 'data/alignments/s1/sgii5a.align',\n",
              " 'data/alignments/s1/sgio6n.align',\n",
              " 'data/alignments/s1/sgio7s.align',\n",
              " 'data/alignments/s1/sgio8p.align',\n",
              " 'data/alignments/s1/sgio9a.align',\n",
              " 'data/alignments/s1/sgiv1s.align',\n",
              " 'data/alignments/s1/sgiv2p.align',\n",
              " 'data/alignments/s1/sgiv3a.align',\n",
              " 'data/alignments/s1/sgivzn.align',\n",
              " 'data/alignments/s1/sgwd1s.align',\n",
              " 'data/alignments/s1/sgwd2p.align',\n",
              " 'data/alignments/s1/sgwd3a.align',\n",
              " 'data/alignments/s1/sgwdzn.align',\n",
              " 'data/alignments/s1/sgwj4n.align',\n",
              " 'data/alignments/s1/sgwj5s.align',\n",
              " 'data/alignments/s1/sgwj6p.align',\n",
              " 'data/alignments/s1/sgwj7a.align',\n",
              " 'data/alignments/s1/sgwp8n.align',\n",
              " 'data/alignments/s1/sgwp9s.align',\n",
              " 'data/alignments/s1/sgwq1a.align',\n",
              " 'data/alignments/s1/sgwqzp.align',\n",
              " 'data/alignments/s1/sgwx2n.align',\n",
              " 'data/alignments/s1/sgwx3s.align',\n",
              " 'data/alignments/s1/sgwx4p.align',\n",
              " 'data/alignments/s1/sgwx5a.align',\n",
              " 'data/alignments/s1/srab1s.align',\n",
              " 'data/alignments/s1/srab2p.align',\n",
              " 'data/alignments/s1/srab3a.align',\n",
              " 'data/alignments/s1/srabzn.align',\n",
              " 'data/alignments/s1/srah4n.align',\n",
              " 'data/alignments/s1/srah5s.align',\n",
              " 'data/alignments/s1/srah6p.align',\n",
              " 'data/alignments/s1/srah7a.align',\n",
              " 'data/alignments/s1/sran8n.align',\n",
              " 'data/alignments/s1/sran9s.align',\n",
              " 'data/alignments/s1/srao1a.align',\n",
              " 'data/alignments/s1/sraozp.align',\n",
              " 'data/alignments/s1/srau2n.align',\n",
              " 'data/alignments/s1/srau3s.align',\n",
              " 'data/alignments/s1/srau4p.align',\n",
              " 'data/alignments/s1/srau5a.align',\n",
              " 'data/alignments/s1/srbb4n.align',\n",
              " 'data/alignments/s1/srbb5s.align',\n",
              " 'data/alignments/s1/srbb6p.align',\n",
              " 'data/alignments/s1/srbb7a.align',\n",
              " 'data/alignments/s1/srbh8n.align',\n",
              " 'data/alignments/s1/srbh9s.align',\n",
              " 'data/alignments/s1/srbi1a.align',\n",
              " 'data/alignments/s1/srbizp.align',\n",
              " 'data/alignments/s1/srbo2n.align',\n",
              " 'data/alignments/s1/srbo3s.align',\n",
              " 'data/alignments/s1/srbo4p.align',\n",
              " 'data/alignments/s1/srbo5a.align',\n",
              " 'data/alignments/s1/srbu6n.align',\n",
              " 'data/alignments/s1/srbu7s.align',\n",
              " 'data/alignments/s1/srbu8p.align',\n",
              " 'data/alignments/s1/srbu9a.align',\n",
              " 'data/alignments/s1/sria6n.align',\n",
              " 'data/alignments/s1/sria7s.align',\n",
              " 'data/alignments/s1/sria8p.align',\n",
              " 'data/alignments/s1/sria9a.align',\n",
              " 'data/alignments/s1/srih1s.align',\n",
              " 'data/alignments/s1/srih2p.align',\n",
              " 'data/alignments/s1/srih3a.align',\n",
              " 'data/alignments/s1/srihzn.align',\n",
              " 'data/alignments/s1/srin4n.align',\n",
              " 'data/alignments/s1/srin5s.align',\n",
              " 'data/alignments/s1/srin6p.align',\n",
              " 'data/alignments/s1/srin7a.align',\n",
              " 'data/alignments/s1/srit8n.align',\n",
              " 'data/alignments/s1/srit9s.align',\n",
              " 'data/alignments/s1/sriu1a.align',\n",
              " 'data/alignments/s1/sriuzp.align',\n",
              " 'data/alignments/s1/srwb8n.align',\n",
              " 'data/alignments/s1/srwb9s.align',\n",
              " 'data/alignments/s1/srwc1a.align',\n",
              " 'data/alignments/s1/srwczp.align',\n",
              " 'data/alignments/s1/srwi2n.align',\n",
              " 'data/alignments/s1/srwi3s.align',\n",
              " 'data/alignments/s1/srwi4p.align',\n",
              " 'data/alignments/s1/srwi5a.align',\n",
              " 'data/alignments/s1/srwo6n.align',\n",
              " 'data/alignments/s1/srwo7s.align',\n",
              " 'data/alignments/s1/srwo8p.align',\n",
              " 'data/alignments/s1/srwo9a.align',\n",
              " 'data/alignments/s1/srwv1s.align',\n",
              " 'data/alignments/s1/srwv2p.align',\n",
              " 'data/alignments/s1/srwv3a.align',\n",
              " 'data/alignments/s1/srwvzn.align',\n",
              " 'data/alignments/s1/swab6n.align',\n",
              " 'data/alignments/s1/swab7s.align',\n",
              " 'data/alignments/s1/swab8p.align',\n",
              " 'data/alignments/s1/swab9a.align',\n",
              " 'data/alignments/s1/swai1s.align',\n",
              " 'data/alignments/s1/swai2p.align',\n",
              " 'data/alignments/s1/swai3a.align',\n",
              " 'data/alignments/s1/swaizn.align',\n",
              " 'data/alignments/s1/swao4n.align',\n",
              " 'data/alignments/s1/swao5s.align',\n",
              " 'data/alignments/s1/swao6p.align',\n",
              " 'data/alignments/s1/swao7a.align',\n",
              " 'data/alignments/s1/swau8n.align',\n",
              " 'data/alignments/s1/swau9s.align',\n",
              " 'data/alignments/s1/swav1a.align',\n",
              " 'data/alignments/s1/swavzp.align',\n",
              " 'data/alignments/s1/swbc1s.align',\n",
              " 'data/alignments/s1/swbc2p.align',\n",
              " 'data/alignments/s1/swbc3a.align',\n",
              " 'data/alignments/s1/swbczn.align',\n",
              " 'data/alignments/s1/swbi4n.align',\n",
              " 'data/alignments/s1/swbi5s.align',\n",
              " 'data/alignments/s1/swbi6p.align',\n",
              " 'data/alignments/s1/swbi7a.align',\n",
              " 'data/alignments/s1/swbo8n.align',\n",
              " 'data/alignments/s1/swbo9s.align',\n",
              " 'data/alignments/s1/swbp1a.align',\n",
              " 'data/alignments/s1/swbpzp.align',\n",
              " 'data/alignments/s1/swbv2n.align',\n",
              " 'data/alignments/s1/swbv3s.align',\n",
              " 'data/alignments/s1/swbv4p.align',\n",
              " 'data/alignments/s1/swbv5a.align',\n",
              " 'data/alignments/s1/swib2n.align',\n",
              " 'data/alignments/s1/swib3s.align',\n",
              " 'data/alignments/s1/swib4p.align',\n",
              " 'data/alignments/s1/swib5a.align',\n",
              " 'data/alignments/s1/swih6n.align',\n",
              " 'data/alignments/s1/swih7s.align',\n",
              " 'data/alignments/s1/swih8p.align',\n",
              " 'data/alignments/s1/swih9a.align',\n",
              " 'data/alignments/s1/swio1s.align',\n",
              " 'data/alignments/s1/swio2p.align',\n",
              " 'data/alignments/s1/swio3a.align',\n",
              " 'data/alignments/s1/swiozn.align',\n",
              " 'data/alignments/s1/swiu4n.align',\n",
              " 'data/alignments/s1/swiu5s.align',\n",
              " 'data/alignments/s1/swiu6p.align',\n",
              " 'data/alignments/s1/swiu7a.align',\n",
              " 'data/alignments/s1/swwc4n.align',\n",
              " 'data/alignments/s1/swwc5s.align',\n",
              " 'data/alignments/s1/swwc6p.align',\n",
              " 'data/alignments/s1/swwc7a.align',\n",
              " 'data/alignments/s1/swwi8n.align',\n",
              " 'data/alignments/s1/swwi9s.align',\n",
              " 'data/alignments/s1/swwj1a.align',\n",
              " 'data/alignments/s1/swwjzp.align',\n",
              " 'data/alignments/s1/swwp2n.align',\n",
              " 'data/alignments/s1/swwp3s.align',\n",
              " 'data/alignments/s1/swwp4p.align',\n",
              " 'data/alignments/s1/swwp5a.align',\n",
              " 'data/alignments/s1/swwv6n.align',\n",
              " ...]"
            ]
          },
          "metadata": {},
          "execution_count": 9
        }
      ],
      "source": [
        "url = 'https://drive.google.com/uc?id=1YlvpDLix3S-U8fd-gqRwPcWXAXm8JwjL'\n",
        "output = 'data.zip'\n",
        "gdown.download(url, output, quiet=False)\n",
        "gdown.extractall('data.zip')"
      ]
    },
    {
      "cell_type": "code",
      "execution_count": null,
      "id": "8548cc59-6dfc-4acc-abc3-3e65212db02e",
      "metadata": {
        "tags": [],
        "id": "8548cc59-6dfc-4acc-abc3-3e65212db02e"
      },
      "outputs": [],
      "source": [
        "def load_video(path:str) -> List[float]:\n",
        "\n",
        "    cap = cv2.VideoCapture(path)\n",
        "    frames = []\n",
        "    for _ in range(int(cap.get(cv2.CAP_PROP_FRAME_COUNT))):\n",
        "        ret, frame = cap.read()\n",
        "        frame = tf.image.rgb_to_grayscale(frame)\n",
        "        frames.append(frame[190:236,80:220,:])\n",
        "    cap.release()\n",
        "\n",
        "    mean = tf.math.reduce_mean(frames)\n",
        "    std = tf.math.reduce_std(tf.cast(frames, tf.float32))\n",
        "    return tf.cast((frames - mean), tf.float32) / std"
      ]
    },
    {
      "cell_type": "code",
      "execution_count": null,
      "id": "ec735e0b-ec98-4eb0-8f49-c35527d6670a",
      "metadata": {
        "tags": [],
        "id": "ec735e0b-ec98-4eb0-8f49-c35527d6670a"
      },
      "outputs": [],
      "source": [
        "vocab = [x for x in \"abcdefghijklmnopqrstuvwxyz'?!123456789 \"]"
      ]
    },
    {
      "cell_type": "code",
      "execution_count": null,
      "id": "be04e972-d7a5-4a72-82d8-a6bdde1f3ce6",
      "metadata": {
        "tags": [],
        "colab": {
          "base_uri": "https://localhost:8080/"
        },
        "id": "be04e972-d7a5-4a72-82d8-a6bdde1f3ce6",
        "outputId": "b12509f7-9e7a-4a85-fe78-1c258a4d9046"
      },
      "outputs": [
        {
          "output_type": "stream",
          "name": "stdout",
          "text": [
            "The vocabulary is: ['', 'a', 'b', 'c', 'd', 'e', 'f', 'g', 'h', 'i', 'j', 'k', 'l', 'm', 'n', 'o', 'p', 'q', 'r', 's', 't', 'u', 'v', 'w', 'x', 'y', 'z', \"'\", '?', '!', '1', '2', '3', '4', '5', '6', '7', '8', '9', ' '] (size =40)\n"
          ]
        }
      ],
      "source": [
        "char_to_num = tf.keras.layers.StringLookup(vocabulary=vocab, oov_token=\"\")\n",
        "num_to_char = tf.keras.layers.StringLookup(vocabulary=char_to_num.get_vocabulary(), oov_token=\"\", invert=True)\n",
        "\n",
        "print(\n",
        "    f\"The vocabulary is: {char_to_num.get_vocabulary()} \"\n",
        "    f\"(size ={char_to_num.vocabulary_size()})\"\n",
        ")"
      ]
    },
    {
      "cell_type": "code",
      "execution_count": null,
      "id": "559f7420-6802-45fa-9ca0-b1ff209b461c",
      "metadata": {
        "tags": [],
        "id": "559f7420-6802-45fa-9ca0-b1ff209b461c",
        "colab": {
          "base_uri": "https://localhost:8080/"
        },
        "outputId": "60db3022-9ea9-4d58-a402-8e5c2bdc5a91",
        "collapsed": true
      },
      "outputs": [
        {
          "output_type": "execute_result",
          "data": {
            "text/plain": [
              "['',\n",
              " 'a',\n",
              " 'b',\n",
              " 'c',\n",
              " 'd',\n",
              " 'e',\n",
              " 'f',\n",
              " 'g',\n",
              " 'h',\n",
              " 'i',\n",
              " 'j',\n",
              " 'k',\n",
              " 'l',\n",
              " 'm',\n",
              " 'n',\n",
              " 'o',\n",
              " 'p',\n",
              " 'q',\n",
              " 'r',\n",
              " 's',\n",
              " 't',\n",
              " 'u',\n",
              " 'v',\n",
              " 'w',\n",
              " 'x',\n",
              " 'y',\n",
              " 'z',\n",
              " \"'\",\n",
              " '?',\n",
              " '!',\n",
              " '1',\n",
              " '2',\n",
              " '3',\n",
              " '4',\n",
              " '5',\n",
              " '6',\n",
              " '7',\n",
              " '8',\n",
              " '9',\n",
              " ' ']"
            ]
          },
          "metadata": {},
          "execution_count": 13
        }
      ],
      "source": [
        "char_to_num.get_vocabulary()"
      ]
    },
    {
      "cell_type": "code",
      "execution_count": null,
      "id": "797ff78b-b48f-4e14-bb62-8cd0ebf9501a",
      "metadata": {
        "tags": [],
        "id": "797ff78b-b48f-4e14-bb62-8cd0ebf9501a",
        "colab": {
          "base_uri": "https://localhost:8080/"
        },
        "outputId": "f3472df9-9d64-4e6f-b0aa-215986710851"
      },
      "outputs": [
        {
          "output_type": "execute_result",
          "data": {
            "text/plain": [
              "<tf.Tensor: shape=(4,), dtype=int64, numpy=array([14,  9,  3, 11])>"
            ]
          },
          "metadata": {},
          "execution_count": 14
        }
      ],
      "source": [
        "char_to_num(['n','i','c','k'])"
      ]
    },
    {
      "cell_type": "code",
      "execution_count": null,
      "id": "8cd7f4f4-ae77-4509-a4f4-c723787ebad1",
      "metadata": {
        "id": "8cd7f4f4-ae77-4509-a4f4-c723787ebad1",
        "colab": {
          "base_uri": "https://localhost:8080/"
        },
        "outputId": "fa962114-5aa4-49d2-c776-2fc57fbc4543"
      },
      "outputs": [
        {
          "output_type": "execute_result",
          "data": {
            "text/plain": [
              "<tf.Tensor: shape=(4,), dtype=string, numpy=array([b'n', b'i', b'c', b'k'], dtype=object)>"
            ]
          },
          "metadata": {},
          "execution_count": 15
        }
      ],
      "source": [
        "num_to_char([14,  9,  3, 11])"
      ]
    },
    {
      "cell_type": "code",
      "execution_count": null,
      "id": "9491bab5-6a3c-4f79-879a-8f9fbe73ae2e",
      "metadata": {
        "tags": [],
        "id": "9491bab5-6a3c-4f79-879a-8f9fbe73ae2e"
      },
      "outputs": [],
      "source": [
        "def load_alignments(path:str) -> List[str]:\n",
        "    with open(path, 'r') as f:\n",
        "        lines = f.readlines()\n",
        "    tokens = []\n",
        "    for line in lines:\n",
        "        line = line.split()\n",
        "        if line[2] != 'sil':\n",
        "            tokens = [*tokens,' ',line[2]]\n",
        "    return char_to_num(tf.reshape(tf.strings.unicode_split(tokens, input_encoding='UTF-8'), (-1)))[1:]"
      ]
    },
    {
      "cell_type": "code",
      "execution_count": null,
      "id": "dd01ca9f-77fb-4643-a2aa-47dd82c5d66b",
      "metadata": {
        "tags": [],
        "id": "dd01ca9f-77fb-4643-a2aa-47dd82c5d66b"
      },
      "outputs": [],
      "source": [
        "def load_data(path: str):\n",
        "    path = bytes.decode(path.numpy())\n",
        "    file_name = path.split('/')[-1].split('.')[0]\n",
        "    # File name splitting for windows\n",
        "    # file_name = path.split('\\\\')[-1].split('.')[0]\n",
        "    video_path = os.path.join('data','s1',f'{file_name}.mpg')\n",
        "    alignment_path = os.path.join('data','alignments','s1',f'{file_name}.align')\n",
        "    frames = load_video(video_path)\n",
        "    alignments = load_alignments(alignment_path)\n",
        "\n",
        "    return frames, alignments"
      ]
    },
    {
      "cell_type": "code",
      "execution_count": null,
      "id": "8cb7cc58-31ae-4904-a805-1177a82717d2",
      "metadata": {
        "tags": [],
        "id": "8cb7cc58-31ae-4904-a805-1177a82717d2"
      },
      "outputs": [],
      "source": [
        "test_path = './data/s1/bbal6n.mpg'"
      ]
    },
    {
      "cell_type": "code",
      "execution_count": null,
      "id": "76aa964f-0c84-490d-897a-d00e3966e2c9",
      "metadata": {
        "id": "76aa964f-0c84-490d-897a-d00e3966e2c9",
        "colab": {
          "base_uri": "https://localhost:8080/",
          "height": 35
        },
        "outputId": "d6f1a458-8cd8-4994-ebda-303f58f8f5ad"
      },
      "outputs": [
        {
          "output_type": "execute_result",
          "data": {
            "text/plain": [
              "'bbal6n'"
            ],
            "application/vnd.google.colaboratory.intrinsic+json": {
              "type": "string"
            }
          },
          "metadata": {},
          "execution_count": 19
        }
      ],
      "source": [
        "tf.convert_to_tensor(test_path).numpy().decode('utf-8').split('/')[-1].split('.')[0]"
      ]
    },
    {
      "cell_type": "code",
      "execution_count": null,
      "id": "eb602c71-8560-4f9e-b26b-08202febb937",
      "metadata": {
        "scrolled": true,
        "tags": [],
        "id": "eb602c71-8560-4f9e-b26b-08202febb937"
      },
      "outputs": [],
      "source": [
        "frames, alignments = load_data(tf.convert_to_tensor(test_path))"
      ]
    },
    {
      "cell_type": "code",
      "execution_count": null,
      "id": "0e3184a1-6b02-4b4f-84a8-a0a65f951ea2",
      "metadata": {
        "id": "0e3184a1-6b02-4b4f-84a8-a0a65f951ea2",
        "colab": {
          "base_uri": "https://localhost:8080/",
          "height": 245
        },
        "outputId": "e4e1ef8e-e7f4-4aaf-ac0b-3cbf7c6261ac"
      },
      "outputs": [
        {
          "output_type": "execute_result",
          "data": {
            "text/plain": [
              "<matplotlib.image.AxesImage at 0x78373a461a20>"
            ]
          },
          "metadata": {},
          "execution_count": 21
        },
        {
          "output_type": "display_data",
          "data": {
            "text/plain": [
              "<Figure size 640x480 with 1 Axes>"
            ],
            "image/png": "[encoded data removed]"
          },
          "metadata": {}
        }
      ],
      "source": [
        "plt.imshow(frames[40])"
      ]
    },
    {
      "cell_type": "code",
      "execution_count": null,
      "id": "d7ec0833-d54b-4073-84cf-92d011c60ec1",
      "metadata": {
        "id": "d7ec0833-d54b-4073-84cf-92d011c60ec1",
        "colab": {
          "base_uri": "https://localhost:8080/"
        },
        "outputId": "8bc827b2-466a-4563-9719-60c381e52628"
      },
      "outputs": [
        {
          "output_type": "execute_result",
          "data": {
            "text/plain": [
              "<tf.Tensor: shape=(21,), dtype=int64, numpy=\n",
              "array([ 2,  9, 14, 39,  2, 12, 21,  5, 39,  1, 20, 39, 12, 39, 19,  9, 24,\n",
              "       39, 14, 15, 23])>"
            ]
          },
          "metadata": {},
          "execution_count": 22
        }
      ],
      "source": [
        "alignments"
      ]
    },
    {
      "cell_type": "code",
      "execution_count": null,
      "id": "fe1ad370-b287-4b46-85a2-7c45b0bd9b10",
      "metadata": {
        "id": "fe1ad370-b287-4b46-85a2-7c45b0bd9b10",
        "colab": {
          "base_uri": "https://localhost:8080/"
        },
        "outputId": "559f8bba-fd14-4c1c-cd5b-ffd2abae9663"
      },
      "outputs": [
        {
          "output_type": "execute_result",
          "data": {
            "text/plain": [
              "<tf.Tensor: shape=(), dtype=string, numpy=b'bin blue at l six now'>"
            ]
          },
          "metadata": {},
          "execution_count": 23
        }
      ],
      "source": [
        "tf.strings.reduce_join([bytes.decode(x) for x in num_to_char(alignments.numpy()).numpy()])"
      ]
    },
    {
      "cell_type": "code",
      "execution_count": null,
      "id": "6871031a-b0ba-4c76-a852-f6329b0f2606",
      "metadata": {
        "tags": [],
        "id": "6871031a-b0ba-4c76-a852-f6329b0f2606"
      },
      "outputs": [],
      "source": [
        "def mappable_function(path:str) ->List[str]:\n",
        "    result = tf.py_function(load_data, [path], (tf.float32, tf.int64))\n",
        "    return result"
      ]
    },
    {
      "cell_type": "markdown",
      "id": "c40a7eb4-0c3e-4eab-9291-5611cb68ce08",
      "metadata": {
        "tags": [],
        "id": "c40a7eb4-0c3e-4eab-9291-5611cb68ce08"
      },
      "source": [
        "## Create Data Pipeline"
      ]
    },
    {
      "cell_type": "code",
      "execution_count": null,
      "id": "7686355d-45aa-4c85-ad9c-053e6a9b4d81",
      "metadata": {
        "tags": [],
        "id": "7686355d-45aa-4c85-ad9c-053e6a9b4d81"
      },
      "outputs": [],
      "source": [
        "from matplotlib import pyplot as plt"
      ]
    },
    {
      "cell_type": "code",
      "execution_count": null,
      "id": "f066fea2-91b1-42ed-a67d-00566a1a53ff",
      "metadata": {
        "tags": [],
        "id": "f066fea2-91b1-42ed-a67d-00566a1a53ff"
      },
      "outputs": [],
      "source": [
        "data = tf.data.Dataset.list_files('./data/s1/*.mpg')\n",
        "data = data.shuffle(500, reshuffle_each_iteration=False)\n",
        "data = data.map(mappable_function)\n",
        "data = data.padded_batch(2, padded_shapes=([75,None,None,None],[40]))\n",
        "data = data.prefetch(tf.data.AUTOTUNE)\n",
        "# Added for split\n",
        "train = data.take(450)\n",
        "test = data.skip(450)"
      ]
    },
    {
      "cell_type": "code",
      "execution_count": null,
      "id": "6b1365bd-7742-41d1-95d4-247021751c3a",
      "metadata": {
        "id": "6b1365bd-7742-41d1-95d4-247021751c3a",
        "colab": {
          "base_uri": "https://localhost:8080/"
        },
        "outputId": "94457170-e3bc-43f1-8fee-41f7d616bb54"
      },
      "outputs": [
        {
          "output_type": "execute_result",
          "data": {
            "text/plain": [
              "50"
            ]
          },
          "metadata": {},
          "execution_count": 27
        }
      ],
      "source": [
        "len(test)"
      ]
    },
    {
      "cell_type": "code",
      "execution_count": null,
      "id": "5281bde8-fdc8-4da1-bd55-5a7929a9e80c",
      "metadata": {
        "id": "5281bde8-fdc8-4da1-bd55-5a7929a9e80c"
      },
      "outputs": [],
      "source": [
        "frames, alignments = data.as_numpy_iterator().next()"
      ]
    },
    {
      "cell_type": "code",
      "execution_count": null,
      "id": "cbebe683-6afd-47fd-bba4-c83b4b13bb32",
      "metadata": {
        "id": "cbebe683-6afd-47fd-bba4-c83b4b13bb32",
        "colab": {
          "base_uri": "https://localhost:8080/"
        },
        "outputId": "d159e88f-5fc6-4afa-d3bb-babea47107c7"
      },
      "outputs": [
        {
          "output_type": "execute_result",
          "data": {
            "text/plain": [
              "2"
            ]
          },
          "metadata": {},
          "execution_count": 29
        }
      ],
      "source": [
        "len(frames)"
      ]
    },
    {
      "cell_type": "code",
      "execution_count": null,
      "id": "5cf2d676-93a9-434c-b3c7-bdcc2577b2e7",
      "metadata": {
        "tags": [],
        "id": "5cf2d676-93a9-434c-b3c7-bdcc2577b2e7"
      },
      "outputs": [],
      "source": [
        "sample = data.as_numpy_iterator()"
      ]
    },
    {
      "cell_type": "code",
      "execution_count": null,
      "id": "efa6cd46-7079-46c0-b45b-832f339f6cb0",
      "metadata": {
        "scrolled": true,
        "tags": [],
        "id": "efa6cd46-7079-46c0-b45b-832f339f6cb0",
        "colab": {
          "base_uri": "https://localhost:8080/"
        },
        "outputId": "d0cad458-60ba-440c-fbed-22d34385c199",
        "collapsed": true
      },
      "outputs": [
        {
          "output_type": "execute_result",
          "data": {
            "text/plain": [
              "array([[[[[ 1.4165834 ],\n",
              "          [ 1.4856851 ],\n",
              "          [ 1.3820326 ],\n",
              "          ...,\n",
              "          [ 0.31095734],\n",
              "          [ 0.38005897],\n",
              "          [ 0.34550816]],\n",
              "\n",
              "         [[ 1.4165834 ],\n",
              "          [ 1.4856851 ],\n",
              "          [ 1.3820326 ],\n",
              "          ...,\n",
              "          [ 0.31095734],\n",
              "          [ 0.38005897],\n",
              "          [ 0.34550816]],\n",
              "\n",
              "         [[ 1.4856851 ],\n",
              "          [ 1.4856851 ],\n",
              "          [ 1.4511342 ],\n",
              "          ...,\n",
              "          [ 0.31095734],\n",
              "          [ 0.31095734],\n",
              "          [ 0.31095734]],\n",
              "\n",
              "         ...,\n",
              "\n",
              "         [[ 1.0365244 ],\n",
              "          [ 1.0365244 ],\n",
              "          [ 1.0019736 ],\n",
              "          ...,\n",
              "          [ 0.06910163],\n",
              "          [ 0.06910163],\n",
              "          [ 0.06910163]],\n",
              "\n",
              "         [[ 1.0365244 ],\n",
              "          [ 1.0365244 ],\n",
              "          [ 1.0019736 ],\n",
              "          ...,\n",
              "          [ 0.06910163],\n",
              "          [ 0.06910163],\n",
              "          [ 0.06910163]],\n",
              "\n",
              "         [[ 1.0365244 ],\n",
              "          [ 1.0365244 ],\n",
              "          [ 1.0019736 ],\n",
              "          ...,\n",
              "          [ 0.06910163],\n",
              "          [ 0.06910163],\n",
              "          [ 0.03455082]]],\n",
              "\n",
              "\n",
              "        [[[ 1.4511342 ],\n",
              "          [ 1.4511342 ],\n",
              "          [ 1.2783802 ],\n",
              "          ...,\n",
              "          [ 0.31095734],\n",
              "          [ 0.31095734],\n",
              "          [ 0.24185571]],\n",
              "\n",
              "         [[ 1.4511342 ],\n",
              "          [ 1.4165834 ],\n",
              "          [ 1.2438294 ],\n",
              "          ...,\n",
              "          [ 0.31095734],\n",
              "          [ 0.31095734],\n",
              "          [ 0.24185571]],\n",
              "\n",
              "         [[ 1.4511342 ],\n",
              "          [ 1.4511342 ],\n",
              "          [ 1.4165834 ],\n",
              "          ...,\n",
              "          [ 0.31095734],\n",
              "          [ 0.31095734],\n",
              "          [ 0.31095734]],\n",
              "\n",
              "         ...,\n",
              "\n",
              "         [[ 0.96742284],\n",
              "          [ 0.96742284],\n",
              "          [ 0.932872  ],\n",
              "          ...,\n",
              "          [ 8.810458  ],\n",
              "          [ 8.810458  ],\n",
              "          [ 0.        ]],\n",
              "\n",
              "         [[ 0.96742284],\n",
              "          [ 0.96742284],\n",
              "          [ 0.932872  ],\n",
              "          ...,\n",
              "          [ 8.810458  ],\n",
              "          [ 8.7759075 ],\n",
              "          [ 8.810458  ]],\n",
              "\n",
              "         [[ 0.96742284],\n",
              "          [ 0.96742284],\n",
              "          [ 0.932872  ],\n",
              "          ...,\n",
              "          [ 8.810458  ],\n",
              "          [ 8.7759075 ],\n",
              "          [ 8.7759075 ]]],\n",
              "\n",
              "\n",
              "        [[[ 1.4165834 ],\n",
              "          [ 1.4511342 ],\n",
              "          [ 1.4165834 ],\n",
              "          ...,\n",
              "          [ 0.38005897],\n",
              "          [ 0.27640653],\n",
              "          [ 0.24185571]],\n",
              "\n",
              "         [[ 1.4165834 ],\n",
              "          [ 1.3474818 ],\n",
              "          [ 1.3820326 ],\n",
              "          ...,\n",
              "          [ 0.38005897],\n",
              "          [ 0.27640653],\n",
              "          [ 0.24185571]],\n",
              "\n",
              "         [[ 1.4511342 ],\n",
              "          [ 1.4511342 ],\n",
              "          [ 1.3820326 ],\n",
              "          ...,\n",
              "          [ 0.34550816],\n",
              "          [ 0.31095734],\n",
              "          [ 0.31095734]],\n",
              "\n",
              "         ...,\n",
              "\n",
              "         [[ 1.0019736 ],\n",
              "          [ 1.0019736 ],\n",
              "          [ 0.96742284],\n",
              "          ...,\n",
              "          [ 0.        ],\n",
              "          [ 0.        ],\n",
              "          [ 0.        ]],\n",
              "\n",
              "         [[ 0.96742284],\n",
              "          [ 0.96742284],\n",
              "          [ 0.932872  ],\n",
              "          ...,\n",
              "          [ 0.        ],\n",
              "          [ 8.810458  ],\n",
              "          [ 8.810458  ]],\n",
              "\n",
              "         [[ 0.96742284],\n",
              "          [ 0.96742284],\n",
              "          [ 0.932872  ],\n",
              "          ...,\n",
              "          [ 0.        ],\n",
              "          [ 8.7759075 ],\n",
              "          [ 8.7759075 ]]],\n",
              "\n",
              "\n",
              "        ...,\n",
              "\n",
              "\n",
              "        [[[ 1.5202359 ],\n",
              "          [ 1.4856851 ],\n",
              "          [ 1.3820326 ],\n",
              "          ...,\n",
              "          [ 0.34550816],\n",
              "          [ 0.27640653],\n",
              "          [ 0.27640653]],\n",
              "\n",
              "         [[ 1.4856851 ],\n",
              "          [ 1.5202359 ],\n",
              "          [ 1.3820326 ],\n",
              "          ...,\n",
              "          [ 0.34550816],\n",
              "          [ 0.27640653],\n",
              "          [ 0.27640653]],\n",
              "\n",
              "         [[ 1.3474818 ],\n",
              "          [ 1.3474818 ],\n",
              "          [ 1.3474818 ],\n",
              "          ...,\n",
              "          [ 0.38005897],\n",
              "          [ 0.34550816],\n",
              "          [ 0.34550816]],\n",
              "\n",
              "         ...,\n",
              "\n",
              "         [[ 1.0710753 ],\n",
              "          [ 1.0710753 ],\n",
              "          [ 1.0365244 ],\n",
              "          ...,\n",
              "          [ 0.06910163],\n",
              "          [ 0.06910163],\n",
              "          [ 0.03455082]],\n",
              "\n",
              "         [[ 1.0365244 ],\n",
              "          [ 1.0365244 ],\n",
              "          [ 1.0365244 ],\n",
              "          ...,\n",
              "          [ 0.06910163],\n",
              "          [ 0.06910163],\n",
              "          [ 0.03455082]],\n",
              "\n",
              "         [[ 1.0365244 ],\n",
              "          [ 1.0365244 ],\n",
              "          [ 1.0365244 ],\n",
              "          ...,\n",
              "          [ 0.06910163],\n",
              "          [ 0.03455082],\n",
              "          [ 0.03455082]]],\n",
              "\n",
              "\n",
              "        [[[ 1.4511342 ],\n",
              "          [ 1.4511342 ],\n",
              "          [ 1.4165834 ],\n",
              "          ...,\n",
              "          [ 0.34550816],\n",
              "          [ 0.27640653],\n",
              "          [ 0.27640653]],\n",
              "\n",
              "         [[ 1.3474818 ],\n",
              "          [ 1.4165834 ],\n",
              "          [ 1.4165834 ],\n",
              "          ...,\n",
              "          [ 0.34550816],\n",
              "          [ 0.27640653],\n",
              "          [ 0.27640653]],\n",
              "\n",
              "         [[ 1.4511342 ],\n",
              "          [ 1.4511342 ],\n",
              "          [ 1.3474818 ],\n",
              "          ...,\n",
              "          [ 0.34550816],\n",
              "          [ 0.38005897],\n",
              "          [ 0.38005897]],\n",
              "\n",
              "         ...,\n",
              "\n",
              "         [[ 1.0365244 ],\n",
              "          [ 1.0019736 ],\n",
              "          [ 1.0019736 ],\n",
              "          ...,\n",
              "          [ 0.03455082],\n",
              "          [ 0.06910163],\n",
              "          [ 0.03455082]],\n",
              "\n",
              "         [[ 1.0365244 ],\n",
              "          [ 1.0365244 ],\n",
              "          [ 1.0365244 ],\n",
              "          ...,\n",
              "          [ 0.        ],\n",
              "          [ 0.        ],\n",
              "          [ 0.        ]],\n",
              "\n",
              "         [[ 1.0365244 ],\n",
              "          [ 1.0365244 ],\n",
              "          [ 1.0365244 ],\n",
              "          ...,\n",
              "          [ 0.        ],\n",
              "          [ 0.        ],\n",
              "          [ 0.        ]]],\n",
              "\n",
              "\n",
              "        [[[ 1.4856851 ],\n",
              "          [ 1.4165834 ],\n",
              "          [ 1.4165834 ],\n",
              "          ...,\n",
              "          [ 0.38005897],\n",
              "          [ 0.31095734],\n",
              "          [ 0.31095734]],\n",
              "\n",
              "         [[ 1.4165834 ],\n",
              "          [ 1.3474818 ],\n",
              "          [ 1.4165834 ],\n",
              "          ...,\n",
              "          [ 0.38005897],\n",
              "          [ 0.31095734],\n",
              "          [ 0.31095734]],\n",
              "\n",
              "         [[ 1.4511342 ],\n",
              "          [ 1.4511342 ],\n",
              "          [ 1.3474818 ],\n",
              "          ...,\n",
              "          [ 0.34550816],\n",
              "          [ 0.34550816],\n",
              "          [ 0.34550816]],\n",
              "\n",
              "         ...,\n",
              "\n",
              "         [[ 1.1401769 ],\n",
              "          [ 1.1401769 ],\n",
              "          [ 1.0710753 ],\n",
              "          ...,\n",
              "          [ 0.10365245],\n",
              "          [ 0.10365245],\n",
              "          [ 0.06910163]],\n",
              "\n",
              "         [[ 1.0710753 ],\n",
              "          [ 1.0710753 ],\n",
              "          [ 1.0365244 ],\n",
              "          ...,\n",
              "          [ 0.03455082],\n",
              "          [ 0.03455082],\n",
              "          [ 0.03455082]],\n",
              "\n",
              "         [[ 1.0710753 ],\n",
              "          [ 1.0710753 ],\n",
              "          [ 1.0365244 ],\n",
              "          ...,\n",
              "          [ 0.        ],\n",
              "          [ 0.        ],\n",
              "          [ 0.        ]]]],\n",
              "\n",
              "\n",
              "\n",
              "       [[[[ 1.4714642 ],\n",
              "          [ 1.4714642 ],\n",
              "          [ 1.5112334 ],\n",
              "          ...,\n",
              "          [ 0.0397693 ],\n",
              "          [ 0.0397693 ],\n",
              "          [ 0.0397693 ]],\n",
              "\n",
              "         [[ 1.4714642 ],\n",
              "          [ 1.4714642 ],\n",
              "          [ 1.5112334 ],\n",
              "          ...,\n",
              "          [ 0.0397693 ],\n",
              "          [ 0.0397693 ],\n",
              "          [ 0.0397693 ]],\n",
              "\n",
              "         [[ 1.3919256 ],\n",
              "          [ 1.3919256 ],\n",
              "          [ 1.3521563 ],\n",
              "          ...,\n",
              "          [ 0.0397693 ],\n",
              "          [ 0.0397693 ],\n",
              "          [ 0.0397693 ]],\n",
              "\n",
              "         ...,\n",
              "\n",
              "         [[ 0.95446324],\n",
              "          [ 0.95446324],\n",
              "          [ 0.95446324],\n",
              "          ...,\n",
              "          [ 9.982095  ],\n",
              "          [ 9.982095  ],\n",
              "          [ 9.982095  ]],\n",
              "\n",
              "         [[ 0.95446324],\n",
              "          [ 0.95446324],\n",
              "          [ 0.95446324],\n",
              "          ...,\n",
              "          [ 9.942326  ],\n",
              "          [ 9.942326  ],\n",
              "          [ 9.942326  ]],\n",
              "\n",
              "         [[ 0.95446324],\n",
              "          [ 0.95446324],\n",
              "          [ 0.95446324],\n",
              "          ...,\n",
              "          [ 9.942326  ],\n",
              "          [ 9.942326  ],\n",
              "          [ 9.942326  ]]],\n",
              "\n",
              "\n",
              "        [[[ 1.5112334 ],\n",
              "          [ 1.5112334 ],\n",
              "          [ 1.5112334 ],\n",
              "          ...,\n",
              "          [ 0.11930791],\n",
              "          [ 0.0397693 ],\n",
              "          [ 0.0397693 ]],\n",
              "\n",
              "         [[ 1.5112334 ],\n",
              "          [ 1.5112334 ],\n",
              "          [ 1.5112334 ],\n",
              "          ...,\n",
              "          [ 0.11930791],\n",
              "          [ 0.0397693 ],\n",
              "          [ 0.0397693 ]],\n",
              "\n",
              "         [[ 1.312387  ],\n",
              "          [ 1.312387  ],\n",
              "          [ 1.3521563 ],\n",
              "          ...,\n",
              "          [ 0.0397693 ],\n",
              "          [ 0.0397693 ],\n",
              "          [ 0.0397693 ]],\n",
              "\n",
              "         ...,\n",
              "\n",
              "         [[ 1.0340018 ],\n",
              "          [ 0.99423254],\n",
              "          [ 0.99423254],\n",
              "          ...,\n",
              "          [ 9.942326  ],\n",
              "          [ 9.942326  ],\n",
              "          [ 9.942326  ]],\n",
              "\n",
              "         [[ 0.99423254],\n",
              "          [ 0.99423254],\n",
              "          [ 0.99423254],\n",
              "          ...,\n",
              "          [ 9.902555  ],\n",
              "          [ 9.902555  ],\n",
              "          [ 9.902555  ]],\n",
              "\n",
              "         [[ 0.99423254],\n",
              "          [ 0.99423254],\n",
              "          [ 0.99423254],\n",
              "          ...,\n",
              "          [ 9.902555  ],\n",
              "          [ 9.902555  ],\n",
              "          [ 9.902555  ]]],\n",
              "\n",
              "\n",
              "        [[[ 1.5112334 ],\n",
              "          [ 1.5112334 ],\n",
              "          [ 1.5112334 ],\n",
              "          ...,\n",
              "          [ 0.0795386 ],\n",
              "          [ 0.0397693 ],\n",
              "          [ 0.0397693 ]],\n",
              "\n",
              "         [[ 1.4714642 ],\n",
              "          [ 1.4714642 ],\n",
              "          [ 1.4714642 ],\n",
              "          ...,\n",
              "          [ 0.0795386 ],\n",
              "          [ 0.0397693 ],\n",
              "          [ 0.0397693 ]],\n",
              "\n",
              "         [[ 1.312387  ],\n",
              "          [ 1.312387  ],\n",
              "          [ 1.3521563 ],\n",
              "          ...,\n",
              "          [ 0.0795386 ],\n",
              "          [ 0.0397693 ],\n",
              "          [ 0.0397693 ]],\n",
              "\n",
              "         ...,\n",
              "\n",
              "         [[ 1.0340018 ],\n",
              "          [ 0.99423254],\n",
              "          [ 0.99423254],\n",
              "          ...,\n",
              "          [10.061633  ],\n",
              "          [10.061633  ],\n",
              "          [ 9.982095  ]],\n",
              "\n",
              "         [[ 0.99423254],\n",
              "          [ 0.99423254],\n",
              "          [ 0.99423254],\n",
              "          ...,\n",
              "          [ 9.942326  ],\n",
              "          [ 9.942326  ],\n",
              "          [ 9.942326  ]],\n",
              "\n",
              "         [[ 0.99423254],\n",
              "          [ 0.99423254],\n",
              "          [ 0.99423254],\n",
              "          ...,\n",
              "          [ 9.942326  ],\n",
              "          [ 9.942326  ],\n",
              "          [ 9.942326  ]]],\n",
              "\n",
              "\n",
              "        ...,\n",
              "\n",
              "\n",
              "        [[[ 1.4714642 ],\n",
              "          [ 1.4714642 ],\n",
              "          [ 1.5112334 ],\n",
              "          ...,\n",
              "          [ 0.0795386 ],\n",
              "          [ 0.0795386 ],\n",
              "          [ 0.0795386 ]],\n",
              "\n",
              "         [[ 1.5112334 ],\n",
              "          [ 1.5112334 ],\n",
              "          [ 1.5112334 ],\n",
              "          ...,\n",
              "          [ 0.0795386 ],\n",
              "          [ 0.0795386 ],\n",
              "          [ 0.0795386 ]],\n",
              "\n",
              "         [[ 1.5112334 ],\n",
              "          [ 1.5112334 ],\n",
              "          [ 1.4714642 ],\n",
              "          ...,\n",
              "          [ 0.0397693 ],\n",
              "          [ 0.0397693 ],\n",
              "          [ 0.0397693 ]],\n",
              "\n",
              "         ...,\n",
              "\n",
              "         [[ 0.95446324],\n",
              "          [ 0.95446324],\n",
              "          [ 0.95446324],\n",
              "          ...,\n",
              "          [ 9.982095  ],\n",
              "          [ 9.982095  ],\n",
              "          [ 9.982095  ]],\n",
              "\n",
              "         [[ 0.95446324],\n",
              "          [ 0.95446324],\n",
              "          [ 0.95446324],\n",
              "          ...,\n",
              "          [ 9.982095  ],\n",
              "          [ 9.982095  ],\n",
              "          [ 9.942326  ]],\n",
              "\n",
              "         [[ 0.95446324],\n",
              "          [ 0.95446324],\n",
              "          [ 0.95446324],\n",
              "          ...,\n",
              "          [ 9.982095  ],\n",
              "          [ 9.942326  ],\n",
              "          [ 9.942326  ]]],\n",
              "\n",
              "\n",
              "        [[[ 1.4316949 ],\n",
              "          [ 1.4316949 ],\n",
              "          [ 1.4714642 ],\n",
              "          ...,\n",
              "          [ 0.11930791],\n",
              "          [ 0.11930791],\n",
              "          [ 0.11930791]],\n",
              "\n",
              "         [[ 1.4714642 ],\n",
              "          [ 1.4714642 ],\n",
              "          [ 1.4714642 ],\n",
              "          ...,\n",
              "          [ 0.11930791],\n",
              "          [ 0.11930791],\n",
              "          [ 0.11930791]],\n",
              "\n",
              "         [[ 1.3919256 ],\n",
              "          [ 1.4714642 ],\n",
              "          [ 1.3919256 ],\n",
              "          ...,\n",
              "          [ 0.0397693 ],\n",
              "          [ 0.0397693 ],\n",
              "          [ 0.0397693 ]],\n",
              "\n",
              "         ...,\n",
              "\n",
              "         [[ 0.95446324],\n",
              "          [ 0.95446324],\n",
              "          [ 0.95446324],\n",
              "          ...,\n",
              "          [ 9.942326  ],\n",
              "          [ 9.982095  ],\n",
              "          [ 9.982095  ]],\n",
              "\n",
              "         [[ 0.95446324],\n",
              "          [ 0.95446324],\n",
              "          [ 0.95446324],\n",
              "          ...,\n",
              "          [ 9.942326  ],\n",
              "          [ 9.982095  ],\n",
              "          [ 9.942326  ]],\n",
              "\n",
              "         [[ 0.95446324],\n",
              "          [ 0.95446324],\n",
              "          [ 0.95446324],\n",
              "          ...,\n",
              "          [ 9.942326  ],\n",
              "          [ 9.942326  ],\n",
              "          [ 9.942326  ]]],\n",
              "\n",
              "\n",
              "        [[[ 1.4714642 ],\n",
              "          [ 1.4714642 ],\n",
              "          [ 1.4714642 ],\n",
              "          ...,\n",
              "          [ 0.0397693 ],\n",
              "          [ 0.0795386 ],\n",
              "          [ 0.0795386 ]],\n",
              "\n",
              "         [[ 1.5510027 ],\n",
              "          [ 1.5112334 ],\n",
              "          [ 1.4714642 ],\n",
              "          ...,\n",
              "          [ 0.0397693 ],\n",
              "          [ 0.0795386 ],\n",
              "          [ 0.0795386 ]],\n",
              "\n",
              "         [[ 1.4714642 ],\n",
              "          [ 1.5112334 ],\n",
              "          [ 1.3919256 ],\n",
              "          ...,\n",
              "          [ 0.        ],\n",
              "          [ 0.        ],\n",
              "          [ 0.        ]],\n",
              "\n",
              "         ...,\n",
              "\n",
              "         [[ 0.99423254],\n",
              "          [ 0.99423254],\n",
              "          [ 0.99423254],\n",
              "          ...,\n",
              "          [ 9.982095  ],\n",
              "          [ 9.982095  ],\n",
              "          [ 9.942326  ]],\n",
              "\n",
              "         [[ 0.95446324],\n",
              "          [ 0.95446324],\n",
              "          [ 0.95446324],\n",
              "          ...,\n",
              "          [ 9.942326  ],\n",
              "          [ 9.942326  ],\n",
              "          [ 9.942326  ]],\n",
              "\n",
              "         [[ 0.95446324],\n",
              "          [ 0.95446324],\n",
              "          [ 0.95446324],\n",
              "          ...,\n",
              "          [ 9.942326  ],\n",
              "          [ 9.942326  ],\n",
              "          [ 9.942326  ]]]]], dtype=float32)"
            ]
          },
          "metadata": {},
          "execution_count": 31
        }
      ],
      "source": [
        "val = sample.next(); val[0]"
      ]
    },
    {
      "cell_type": "code",
      "execution_count": null,
      "id": "c33a87a2-d5e0-4ec9-b174-73ebf41bf03a",
      "metadata": {
        "tags": [],
        "id": "c33a87a2-d5e0-4ec9-b174-73ebf41bf03a",
        "colab": {
          "base_uri": "https://localhost:8080/",
          "height": 245
        },
        "outputId": "c6d7ecc6-373b-4335-ec74-18e434f0700b"
      },
      "outputs": [
        {
          "output_type": "execute_result",
          "data": {
            "text/plain": [
              "<matplotlib.image.AxesImage at 0x78373a357e50>"
            ]
          },
          "metadata": {},
          "execution_count": 32
        },
        {
          "output_type": "display_data",
          "data": {
            "text/plain": [
              "<Figure size 640x480 with 1 Axes>"
            ],
            "image/png": "[encoded data removed]"
          },
          "metadata": {}
        }
      ],
      "source": [
        "# 0:videos, 0: 1st video out of the batch,  0: return the first frame in the video\n",
        "plt.imshow(val[0][0][35])"
      ]
    },
    {
      "cell_type": "code",
      "execution_count": null,
      "id": "84593332-133c-4205-b7a6-8e235d5e2b3b",
      "metadata": {
        "tags": [],
        "id": "84593332-133c-4205-b7a6-8e235d5e2b3b",
        "colab": {
          "base_uri": "https://localhost:8080/"
        },
        "outputId": "893ac64c-2e09-4154-deb5-29c8fdce2e51"
      },
      "outputs": [
        {
          "output_type": "execute_result",
          "data": {
            "text/plain": [
              "<tf.Tensor: shape=(), dtype=string, numpy=b'place blue with c nine soon'>"
            ]
          },
          "metadata": {},
          "execution_count": 33
        }
      ],
      "source": [
        "tf.strings.reduce_join([num_to_char(word) for word in val[1][0]])"
      ]
    },
    {
      "cell_type": "markdown",
      "id": "0f47733c-83bc-465c-b118-b198b492ad37",
      "metadata": {
        "tags": [],
        "id": "0f47733c-83bc-465c-b118-b198b492ad37"
      },
      "source": [
        "## Design the Deep Neural Network"
      ]
    },
    {
      "cell_type": "code",
      "execution_count": null,
      "id": "d8e9a497-191b-4842-afbd-26f5e13c43ba",
      "metadata": {
        "tags": [],
        "id": "d8e9a497-191b-4842-afbd-26f5e13c43ba"
      },
      "outputs": [],
      "source": [
        "from tensorflow.keras.models import Sequential\n",
        "from tensorflow.keras.layers import Conv3D, LSTM, Dense, Dropout, Bidirectional, MaxPool3D, Activation, Reshape, SpatialDropout3D, BatchNormalization, TimeDistributed, Flatten\n",
        "from tensorflow.keras.optimizers import Adam\n",
        "from tensorflow.keras.callbacks import ModelCheckpoint, LearningRateScheduler"
      ]
    },
    {
      "cell_type": "code",
      "execution_count": null,
      "id": "3f753ed2-70b9-4236-8c1c-08ca065dc8bf",
      "metadata": {
        "id": "3f753ed2-70b9-4236-8c1c-08ca065dc8bf",
        "colab": {
          "base_uri": "https://localhost:8080/"
        },
        "outputId": "b0efcada-9e74-4c23-89fa-b88e3ea4466f"
      },
      "outputs": [
        {
          "output_type": "execute_result",
          "data": {
            "text/plain": [
              "(75, 46, 140, 1)"
            ]
          },
          "metadata": {},
          "execution_count": 35
        }
      ],
      "source": [
        "data.as_numpy_iterator().next()[0][0].shape"
      ]
    },
    {
      "cell_type": "code",
      "execution_count": null,
      "id": "f9171056-a352-491a-9ed9-92b28ced268e",
      "metadata": {
        "tags": [],
        "id": "f9171056-a352-491a-9ed9-92b28ced268e"
      },
      "outputs": [],
      "source": [
        "model = Sequential()\n",
        "model.add(Conv3D(128, 3, input_shape=(75,46,140,1), padding='same'))\n",
        "model.add(Activation('relu'))\n",
        "model.add(MaxPool3D((1,2,2)))\n",
        "\n",
        "model.add(Conv3D(256, 3, padding='same'))\n",
        "model.add(Activation('relu'))\n",
        "model.add(MaxPool3D((1,2,2)))\n",
        "\n",
        "model.add(Conv3D(75, 3, padding='same'))\n",
        "model.add(Activation('relu'))\n",
        "model.add(MaxPool3D((1,2,2)))\n",
        "\n",
        "model.add(TimeDistributed(Flatten()))\n",
        "\n",
        "model.add(Bidirectional(LSTM(128, kernel_initializer='Orthogonal', return_sequences=True)))\n",
        "model.add(Dropout(.5))\n",
        "\n",
        "model.add(Bidirectional(LSTM(128, kernel_initializer='Orthogonal', return_sequences=True)))\n",
        "model.add(Dropout(.5))\n",
        "\n",
        "model.add(Dense(char_to_num.vocabulary_size()+1, kernel_initializer='he_normal', activation='softmax'))"
      ]
    },
    {
      "cell_type": "code",
      "execution_count": null,
      "id": "78851825-2bcd-42a9-b7f2-28bb5a6bf43a",
      "metadata": {
        "jupyter": {
          "outputs_hidden": true
        },
        "tags": [],
        "id": "78851825-2bcd-42a9-b7f2-28bb5a6bf43a",
        "colab": {
          "base_uri": "https://localhost:8080/"
        },
        "outputId": "34264b01-3be9-42aa-dc9c-aae0c9f04caf",
        "collapsed": true
      },
      "outputs": [
        {
          "output_type": "stream",
          "name": "stdout",
          "text": [
            "Model: \"sequential\"\n",
            "_________________________________________________________________\n",
            " Layer (type)                Output Shape              Param #   \n",
            "=================================================================\n",
            " conv3d (Conv3D)             (None, 75, 46, 140, 128)  3584      \n",
            "                                                                 \n",
            " activation (Activation)     (None, 75, 46, 140, 128)  0         \n",
            "                                                                 \n",
            " max_pooling3d (MaxPooling3D  (None, 75, 23, 70, 128)  0         \n",
            " )                                                               \n",
            "                                                                 \n",
            " conv3d_1 (Conv3D)           (None, 75, 23, 70, 256)   884992    \n",
            "                                                                 \n",
            " activation_1 (Activation)   (None, 75, 23, 70, 256)   0         \n",
            "                                                                 \n",
            " max_pooling3d_1 (MaxPooling  (None, 75, 11, 35, 256)  0         \n",
            " 3D)                                                             \n",
            "                                                                 \n",
            " conv3d_2 (Conv3D)           (None, 75, 11, 35, 75)    518475    \n",
            "                                                                 \n",
            " activation_2 (Activation)   (None, 75, 11, 35, 75)    0         \n",
            "                                                                 \n",
            " max_pooling3d_2 (MaxPooling  (None, 75, 5, 17, 75)    0         \n",
            " 3D)                                                             \n",
            "                                                                 \n",
            " time_distributed (TimeDistr  (None, 75, 6375)         0         \n",
            " ibuted)                                                         \n",
            "                                                                 \n",
            " bidirectional (Bidirectiona  (None, 75, 256)          6660096   \n",
            " l)                                                              \n",
            "                                                                 \n",
            " dropout (Dropout)           (None, 75, 256)           0         \n",
            "                                                                 \n",
            " bidirectional_1 (Bidirectio  (None, 75, 256)          394240    \n",
            " nal)                                                            \n",
            "                                                                 \n",
            " dropout_1 (Dropout)         (None, 75, 256)           0         \n",
            "                                                                 \n",
            " dense (Dense)               (None, 75, 41)            10537     \n",
            "                                                                 \n",
            "=================================================================\n",
            "Total params: 8,471,924\n",
            "Trainable params: 8,471,924\n",
            "Non-trainable params: 0\n",
            "_________________________________________________________________\n"
          ]
        }
      ],
      "source": [
        "model.summary()"
      ]
    },
    {
      "cell_type": "code",
      "execution_count": null,
      "id": "7c37b9b9-5298-4038-9c33-5031d1b457f0",
      "metadata": {
        "tags": [],
        "id": "7c37b9b9-5298-4038-9c33-5031d1b457f0",
        "outputId": "862b9a1b-c91d-4c2a-8865-b69d69cc515a",
        "colab": {
          "base_uri": "https://localhost:8080/"
        }
      },
      "outputs": [
        {
          "output_type": "execute_result",
          "data": {
            "text/plain": [
              "(None, 75, 46, 140, 1)"
            ]
          },
          "metadata": {},
          "execution_count": 38
        }
      ],
      "source": [
        "model.input_shape"
      ]
    },
    {
      "cell_type": "code",
      "execution_count": null,
      "id": "98b316a4-5322-4782-8e36-4b3c1a696d85",
      "metadata": {
        "tags": [],
        "id": "98b316a4-5322-4782-8e36-4b3c1a696d85",
        "outputId": "e1381e94-57aa-463d-8fe5-580b06b90778",
        "colab": {
          "base_uri": "https://localhost:8080/"
        }
      },
      "outputs": [
        {
          "output_type": "execute_result",
          "data": {
            "text/plain": [
              "(None, 75, 41)"
            ]
          },
          "metadata": {},
          "execution_count": 39
        }
      ],
      "source": [
        "model.output_shape"
      ]
    },
    {
      "cell_type": "markdown",
      "id": "2ec02176-5c26-46c3-aff7-8352e6563c7d",
      "metadata": {
        "tags": [],
        "id": "2ec02176-5c26-46c3-aff7-8352e6563c7d"
      },
      "source": [
        "## Setup Training Options and Train"
      ]
    },
    {
      "cell_type": "code",
      "execution_count": null,
      "id": "ab015fd0-7fb4-4d5d-9fa2-30a05dbd515a",
      "metadata": {
        "tags": [],
        "id": "ab015fd0-7fb4-4d5d-9fa2-30a05dbd515a"
      },
      "outputs": [],
      "source": [
        "def scheduler(epoch, lr):\n",
        "    if epoch < 30:\n",
        "        return lr\n",
        "    else:\n",
        "        return lr * tf.math.exp(-0.1)"
      ]
    },
    {
      "cell_type": "code",
      "execution_count": null,
      "id": "c564d5c9-db54-4e88-b311-9aeab7fb3e69",
      "metadata": {
        "tags": [],
        "id": "c564d5c9-db54-4e88-b311-9aeab7fb3e69"
      },
      "outputs": [],
      "source": [
        "def CTCLoss(y_true, y_pred):\n",
        "    batch_len = tf.cast(tf.shape(y_true)[0], dtype=\"int64\")\n",
        "    input_length = tf.cast(tf.shape(y_pred)[1], dtype=\"int64\")\n",
        "    label_length = tf.cast(tf.shape(y_true)[1], dtype=\"int64\")\n",
        "\n",
        "    input_length = input_length * tf.ones(shape=(batch_len, 1), dtype=\"int64\")\n",
        "    label_length = label_length * tf.ones(shape=(batch_len, 1), dtype=\"int64\")\n",
        "\n",
        "    loss = tf.keras.backend.ctc_batch_cost(y_true, y_pred, input_length, label_length)\n",
        "    return loss"
      ]
    },
    {
      "cell_type": "code",
      "execution_count": null,
      "id": "a26dc3fc-a19c-4378-bd8c-e2b597a1d15c",
      "metadata": {
        "tags": [],
        "id": "a26dc3fc-a19c-4378-bd8c-e2b597a1d15c"
      },
      "outputs": [],
      "source": [
        "class ProduceExample(tf.keras.callbacks.Callback):\n",
        "    def __init__(self, dataset) -> None:\n",
        "        self.dataset = dataset.as_numpy_iterator()\n",
        "\n",
        "    def on_epoch_end(self, epoch, logs=None) -> None:\n",
        "        data = self.dataset.next()\n",
        "        yhat = self.model.predict(data[0])\n",
        "        decoded = tf.keras.backend.ctc_decode(yhat, [75,75], greedy=False)[0][0].numpy()\n",
        "        for x in range(len(yhat)):\n",
        "            print('Original:', tf.strings.reduce_join(num_to_char(data[1][x])).numpy().decode('utf-8'))\n",
        "            print('Prediction:', tf.strings.reduce_join(num_to_char(decoded[x])).numpy().decode('utf-8'))\n",
        "            print('~'*100)"
      ]
    },
    {
      "cell_type": "code",
      "execution_count": null,
      "id": "04be90d8-2482-46f9-b513-d5f4f8001c7e",
      "metadata": {
        "tags": [],
        "id": "04be90d8-2482-46f9-b513-d5f4f8001c7e"
      },
      "outputs": [],
      "source": [
        "model.compile(optimizer=Adam(learning_rate=0.0001), loss=CTCLoss)"
      ]
    },
    {
      "cell_type": "code",
      "execution_count": null,
      "id": "eab49367-3f1e-4464-ae76-dbd07549d97e",
      "metadata": {
        "tags": [],
        "id": "eab49367-3f1e-4464-ae76-dbd07549d97e"
      },
      "outputs": [],
      "source": [
        "checkpoint_callback = ModelCheckpoint(os.path.join('models','checkpoint'), monitor='loss', save_weights_only=True)"
      ]
    },
    {
      "cell_type": "code",
      "execution_count": null,
      "id": "e085a632-d464-46ef-8777-959cad4adb2c",
      "metadata": {
        "tags": [],
        "id": "e085a632-d464-46ef-8777-959cad4adb2c"
      },
      "outputs": [],
      "source": [
        "schedule_callback = LearningRateScheduler(scheduler)"
      ]
    },
    {
      "cell_type": "code",
      "execution_count": null,
      "id": "48eca991-90ab-4592-8a79-b50e9ca015b6",
      "metadata": {
        "tags": [],
        "id": "48eca991-90ab-4592-8a79-b50e9ca015b6"
      },
      "outputs": [],
      "source": [
        "example_callback = ProduceExample(test)"
      ]
    },
    {
      "cell_type": "code",
      "execution_count": null,
      "id": "8ffba483-aa61-4bbe-a15f-a73e1ddf097c",
      "metadata": {
        "tags": [],
        "id": "8ffba483-aa61-4bbe-a15f-a73e1ddf097c",
        "outputId": "b3569ee0-06e0-4210-8edc-4da855bef199"
      },
      "outputs": [
        {
          "name": "stdout",
          "output_type": "stream",
          "text": [
            "Epoch 1/100\n",
            "  2/450 [..............................] - ETA: 3:03 - loss: 213.9969 "
          ]
        },
        {
          "name": "stderr",
          "output_type": "stream",
          "text": [
            "\n",
            "KeyboardInterrupt\n",
            "\n"
          ]
        }
      ],
      "source": [
        "# model.fit(train, validation_data=test, epochs=100, callbacks=[checkpoint_callback, schedule_callback, example_callback])"
      ]
    },
    {
      "cell_type": "markdown",
      "id": "fa8ee94b-89f7-4733-8a0c-a86f86ff590a",
      "metadata": {
        "tags": [],
        "id": "fa8ee94b-89f7-4733-8a0c-a86f86ff590a"
      },
      "source": [
        " ## Make a Prediction"
      ]
    },
    {
      "cell_type": "code",
      "execution_count": null,
      "id": "01fa7204-ce0e-49a8-8dbd-14fe5dfead40",
      "metadata": {
        "tags": [],
        "colab": {
          "base_uri": "https://localhost:8080/"
        },
        "id": "01fa7204-ce0e-49a8-8dbd-14fe5dfead40",
        "outputId": "cd448f86-9ca3-49d8-aca3-f5674a894e6d"
      },
      "outputs": [
        {
          "output_type": "stream",
          "name": "stderr",
          "text": [
            "Downloading...\n",
            "From (original): https://drive.google.com/uc?id=1vWscXs4Vt0a_1IH1-ct2TCgXAZT-N3_Y\n",
            "From (redirected): https://drive.google.com/uc?id=1vWscXs4Vt0a_1IH1-ct2TCgXAZT-N3_Y&confirm=t&uuid=5f95bc3c-5f35-4df2-8e3a-bf23c9f81ede\n",
            "To: /content/checkpoints.zip\n",
            "100%|██████████| 94.5M/94.5M [00:01<00:00, 59.5MB/s]\n"
          ]
        },
        {
          "output_type": "execute_result",
          "data": {
            "text/plain": [
              "['models/checkpoint.index',\n",
              " 'models/__MACOSX/._checkpoint.index',\n",
              " 'models/checkpoint.data-00000-of-00001',\n",
              " 'models/__MACOSX/._checkpoint.data-00000-of-00001',\n",
              " 'models/checkpoint',\n",
              " 'models/__MACOSX/._checkpoint']"
            ]
          },
          "metadata": {},
          "execution_count": 47
        }
      ],
      "source": [
        "import gdown\n",
        "url = 'https://drive.google.com/uc?id=1vWscXs4Vt0a_1IH1-ct2TCgXAZT-N3_Y'\n",
        "output = 'checkpoints.zip'\n",
        "gdown.download(url, output, quiet=False)\n",
        "gdown.extractall('checkpoints.zip', 'models')"
      ]
    },
    {
      "cell_type": "code",
      "execution_count": null,
      "id": "247f664d-3c87-4e96-946e-930dad0e1c2c",
      "metadata": {
        "tags": [],
        "colab": {
          "base_uri": "https://localhost:8080/"
        },
        "id": "247f664d-3c87-4e96-946e-930dad0e1c2c",
        "outputId": "d60a85df-979c-4261-8c3d-c76dc92c63a4"
      },
      "outputs": [
        {
          "output_type": "execute_result",
          "data": {
            "text/plain": [
              "<tensorflow.python.checkpoint.checkpoint.CheckpointLoadStatus at 0x78371ff61150>"
            ]
          },
          "metadata": {},
          "execution_count": 48
        }
      ],
      "source": [
        "model.load_weights('models/checkpoint')"
      ]
    },
    {
      "cell_type": "code",
      "source": [
        "# model.save('lip_reading_96_epochs.keras')"
      ],
      "metadata": {
        "id": "XshsBb9vFP0s"
      },
      "id": "XshsBb9vFP0s",
      "execution_count": null,
      "outputs": []
    },
    {
      "cell_type": "markdown",
      "source": [],
      "metadata": {
        "id": "oKXbOAPn4rxw"
      },
      "id": "oKXbOAPn4rxw"
    },
    {
      "cell_type": "code",
      "source": [
        "# new_model = tf.keras.models.load_model(\n",
        "#     'lip_reading_96_epochs.keras',\n",
        "#     custom_objects={'CTCLoss': CTCLoss}  # Replace with actual CTCLoss if available\n",
        "# )"
      ],
      "metadata": {
        "id": "m-a4_0bUJxdS"
      },
      "id": "m-a4_0bUJxdS",
      "execution_count": null,
      "outputs": []
    },
    {
      "cell_type": "code",
      "source": [
        "# new_model.summary()"
      ],
      "metadata": {
        "colab": {
          "base_uri": "https://localhost:8080/"
        },
        "id": "HLj_mCDPKcDm",
        "outputId": "afb88869-58d4-4802-a87f-cadcaa45e099"
      },
      "id": "HLj_mCDPKcDm",
      "execution_count": null,
      "outputs": [
        {
          "output_type": "stream",
          "name": "stdout",
          "text": [
            "Model: \"sequential\"\n",
            "_________________________________________________________________\n",
            " Layer (type)                Output Shape              Param #   \n",
            "=================================================================\n",
            " conv3d (Conv3D)             (None, 75, 46, 140, 128)  3584      \n",
            "                                                                 \n",
            " activation (Activation)     (None, 75, 46, 140, 128)  0         \n",
            "                                                                 \n",
            " max_pooling3d (MaxPooling3D  (None, 75, 23, 70, 128)  0         \n",
            " )                                                               \n",
            "                                                                 \n",
            " conv3d_1 (Conv3D)           (None, 75, 23, 70, 256)   884992    \n",
            "                                                                 \n",
            " activation_1 (Activation)   (None, 75, 23, 70, 256)   0         \n",
            "                                                                 \n",
            " max_pooling3d_1 (MaxPooling  (None, 75, 11, 35, 256)  0         \n",
            " 3D)                                                             \n",
            "                                                                 \n",
            " conv3d_2 (Conv3D)           (None, 75, 11, 35, 75)    518475    \n",
            "                                                                 \n",
            " activation_2 (Activation)   (None, 75, 11, 35, 75)    0         \n",
            "                                                                 \n",
            " max_pooling3d_2 (MaxPooling  (None, 75, 5, 17, 75)    0         \n",
            " 3D)                                                             \n",
            "                                                                 \n",
            " time_distributed (TimeDistr  (None, 75, 6375)         0         \n",
            " ibuted)                                                         \n",
            "                                                                 \n",
            " bidirectional (Bidirectiona  (None, 75, 256)          6660096   \n",
            " l)                                                              \n",
            "                                                                 \n",
            " dropout (Dropout)           (None, 75, 256)           0         \n",
            "                                                                 \n",
            " bidirectional_1 (Bidirectio  (None, 75, 256)          394240    \n",
            " nal)                                                            \n",
            "                                                                 \n",
            " dropout_1 (Dropout)         (None, 75, 256)           0         \n",
            "                                                                 \n",
            " dense (Dense)               (None, 75, 41)            10537     \n",
            "                                                                 \n",
            "=================================================================\n",
            "Total params: 8,471,924\n",
            "Trainable params: 8,471,924\n",
            "Non-trainable params: 0\n",
            "_________________________________________________________________\n"
          ]
        }
      ]
    },
    {
      "cell_type": "code",
      "execution_count": null,
      "id": "7f8d689f-b7bb-443c-9b88-e40c1d800828",
      "metadata": {
        "tags": [],
        "id": "7f8d689f-b7bb-443c-9b88-e40c1d800828"
      },
      "outputs": [],
      "source": [
        "data = data.as_numpy_iterator()"
      ]
    },
    {
      "cell_type": "code",
      "execution_count": null,
      "id": "38546dc2-bee9-4837-864b-8a884df40ad7",
      "metadata": {
        "tags": [],
        "id": "38546dc2-bee9-4837-864b-8a884df40ad7"
      },
      "outputs": [],
      "source": [
        "sample = data.next()"
      ]
    },
    {
      "cell_type": "code",
      "execution_count": null,
      "id": "a43621f0-229d-4c0d-9554-9c3a3da9c61a",
      "metadata": {
        "tags": [],
        "colab": {
          "base_uri": "https://localhost:8080/"
        },
        "id": "a43621f0-229d-4c0d-9554-9c3a3da9c61a",
        "outputId": "2b55f19f-e8c9-4670-e54c-d7d51d4fbeb9"
      },
      "outputs": [
        {
          "output_type": "stream",
          "name": "stdout",
          "text": [
            "1/1 [==============================] - 14s 14s/step\n"
          ]
        }
      ],
      "source": [
        "yhat = model.predict(sample[0])"
      ]
    },
    {
      "cell_type": "code",
      "execution_count": null,
      "id": "ea462999-f87e-4a7e-a057-5be7b6d8f7d5",
      "metadata": {
        "tags": [],
        "id": "ea462999-f87e-4a7e-a057-5be7b6d8f7d5",
        "outputId": "7cf1d157-d0c9-47dc-d1fe-c57030667bdc",
        "colab": {
          "base_uri": "https://localhost:8080/"
        }
      },
      "outputs": [
        {
          "output_type": "stream",
          "name": "stdout",
          "text": [
            "~~~~~~~~~~~~~~~~~~~~~~~~~~~~~~~~~~~~~~~~~~~~~~~~~~~~~~~~~~~~~~~~~~~~~~~~~~~~~~~~~~~~~~~~~~~~~~~~~~~~ REAL TEXT\n"
          ]
        },
        {
          "output_type": "execute_result",
          "data": {
            "text/plain": [
              "[<tf.Tensor: shape=(), dtype=string, numpy=b'lay white with m zero now'>,\n",
              " <tf.Tensor: shape=(), dtype=string, numpy=b'set green in v zero now'>]"
            ]
          },
          "metadata": {},
          "execution_count": 57
        }
      ],
      "source": [
        "print('~'*100, 'REAL TEXT')\n",
        "[tf.strings.reduce_join([num_to_char(word) for word in sentence]) for sentence in sample[1]]"
      ]
    },
    {
      "cell_type": "code",
      "execution_count": null,
      "id": "82bd4c10-dd6e-411e-834b-2a3b43fd12c5",
      "metadata": {
        "tags": [],
        "id": "82bd4c10-dd6e-411e-834b-2a3b43fd12c5"
      },
      "outputs": [],
      "source": [
        "decoded = tf.keras.backend.ctc_decode(yhat, input_length=[75,75], greedy=True)[0][0].numpy()"
      ]
    },
    {
      "cell_type": "code",
      "execution_count": null,
      "id": "5d68ac46-c90b-4eab-a709-f19aee569ff5",
      "metadata": {
        "tags": [],
        "id": "5d68ac46-c90b-4eab-a709-f19aee569ff5",
        "outputId": "b7dd829a-96b1-4322-aa06-e13a9d00a8cd",
        "colab": {
          "base_uri": "https://localhost:8080/"
        }
      },
      "outputs": [
        {
          "output_type": "stream",
          "name": "stdout",
          "text": [
            "~~~~~~~~~~~~~~~~~~~~~~~~~~~~~~~~~~~~~~~~~~~~~~~~~~~~~~~~~~~~~~~~~~~~~~~~~~~~~~~~~~~~~~~~~~~~~~~~~~~~ PREDICTIONS\n"
          ]
        },
        {
          "output_type": "execute_result",
          "data": {
            "text/plain": [
              "[<tf.Tensor: shape=(), dtype=string, numpy=b'lay white with m zero now'>,\n",
              " <tf.Tensor: shape=(), dtype=string, numpy=b'set green in v zero now'>]"
            ]
          },
          "metadata": {},
          "execution_count": 59
        }
      ],
      "source": [
        "print('~'*100, 'PREDICTIONS')\n",
        "[tf.strings.reduce_join([num_to_char(word) for word in sentence]) for sentence in decoded]"
      ]
    },
    {
      "cell_type": "markdown",
      "id": "64622f98-e99b-4fed-a2cc-f0da82eb5431",
      "metadata": {
        "id": "64622f98-e99b-4fed-a2cc-f0da82eb5431"
      },
      "source": [
        "## Test on a Video"
      ]
    },
    {
      "cell_type": "code",
      "source": [
        "input_video = '/content/data/s1/bbaf2n.mpg'  # replace with your file path\n",
        "output_video = '/content/converted_video.mp4'\n",
        "\n",
        "!ffmpeg -i \"{input_video}\" -c:v libx264 \"{output_video}\"\n"
      ],
      "metadata": {
        "colab": {
          "base_uri": "https://localhost:8080/"
        },
        "id": "cgz3tcpO6ckf",
        "outputId": "2257e6ab-235e-4c87-8dce-929772f6fe16"
      },
      "id": "cgz3tcpO6ckf",
      "execution_count": null,
      "outputs": [
        {
          "output_type": "stream",
          "name": "stdout",
          "text": [
            "ffmpeg version 4.4.2-0ubuntu0.22.04.1 Copyright (c) 2000-2021 the FFmpeg developers\n",
            "  built with gcc 11 (Ubuntu 11.2.0-19ubuntu1)\n",
            "  configuration: --prefix=/usr --extra-version=0ubuntu0.22.04.1 --toolchain=hardened --libdir=/usr/lib/x86_64-linux-gnu --incdir=/usr/include/x86_64-linux-gnu --arch=amd64 --enable-gpl --disable-stripping --enable-gnutls --enable-ladspa --enable-libaom --enable-libass --enable-libbluray --enable-libbs2b --enable-libcaca --enable-libcdio --enable-libcodec2 --enable-libdav1d --enable-libflite --enable-libfontconfig --enable-libfreetype --enable-libfribidi --enable-libgme --enable-libgsm --enable-libjack --enable-libmp3lame --enable-libmysofa --enable-libopenjpeg --enable-libopenmpt --enable-libopus --enable-libpulse --enable-librabbitmq --enable-librubberband --enable-libshine --enable-libsnappy --enable-libsoxr --enable-libspeex --enable-libsrt --enable-libssh --enable-libtheora --enable-libtwolame --enable-libvidstab --enable-libvorbis --enable-libvpx --enable-libwebp --enable-libx265 --enable-libxml2 --enable-libxvid --enable-libzimg --enable-libzmq --enable-libzvbi --enable-lv2 --enable-omx --enable-openal --enable-opencl --enable-opengl --enable-sdl2 --enable-pocketsphinx --enable-librsvg --enable-libmfx --enable-libdc1394 --enable-libdrm --enable-libiec61883 --enable-chromaprint --enable-frei0r --enable-libx264 --enable-shared\n",
            "  libavutil      56. 70.100 / 56. 70.100\n",
            "  libavcodec     58.134.100 / 58.134.100\n",
            "  libavformat    58. 76.100 / 58. 76.100\n",
            "  libavdevice    58. 13.100 / 58. 13.100\n",
            "  libavfilter     7.110.100 /  7.110.100\n",
            "  libswscale      5.  9.100 /  5.  9.100\n",
            "  libswresample   3.  9.100 /  3.  9.100\n",
            "  libpostproc    55.  9.100 / 55.  9.100\n",
            "Input #0, mpeg, from '/content/data/s1/bbaf2n.mpg':\n",
            "  Duration: 00:00:03.00, start: 0.000000, bitrate: 1206 kb/s\n",
            "  Stream #0:0[0x1e0]: Video: mpeg1video, yuv420p(tv), 360x288 [SAR 1:1 DAR 5:4], 104857 kb/s, 25 fps, 25 tbr, 90k tbn, 25 tbc\n",
            "  Stream #0:1[0x1c0]: Audio: mp2, 44100 Hz, stereo, s16p, 224 kb/s\n",
            "Stream mapping:\n",
            "  Stream #0:0 -> #0:0 (mpeg1video (native) -> h264 (libx264))\n",
            "  Stream #0:1 -> #0:1 (mp2 (native) -> aac (native))\n",
            "Press [q] to stop, [?] for help\n",
            "\u001b[1;36m[libx264 @ 0x57a12c04e680] \u001b[0musing SAR=1/1\n",
            "\u001b[1;36m[libx264 @ 0x57a12c04e680] \u001b[0musing cpu capabilities: MMX2 SSE2Fast SSSE3 SSE4.2 AVX FMA3 BMI2 AVX2\n",
            "\u001b[1;36m[libx264 @ 0x57a12c04e680] \u001b[0mprofile High, level 2.1, 4:2:0, 8-bit\n",
            "\u001b[1;36m[libx264 @ 0x57a12c04e680] \u001b[0m264 - core 163 r3060 5db6aa6 - H.264/MPEG-4 AVC codec - Copyleft 2003-2021 - http://www.videolan.org/x264.html - options: cabac=1 ref=3 deblock=1:0:0 analyse=0x3:0x113 me=hex subme=7 psy=1 psy_rd=1.00:0.00 mixed_ref=1 me_range=16 chroma_me=1 trellis=1 8x8dct=1 cqm=0 deadzone=21,11 fast_pskip=1 chroma_qp_offset=-2 threads=3 lookahead_threads=1 sliced_threads=0 nr=0 decimate=1 interlaced=0 bluray_compat=0 constrained_intra=0 bframes=3 b_pyramid=2 b_adapt=1 b_bias=0 direct=1 weightb=1 open_gop=0 weightp=2 keyint=250 keyint_min=25 scenecut=40 intra_refresh=0 rc_lookahead=40 rc=crf mbtree=1 crf=23.0 qcomp=0.60 qpmin=0 qpmax=69 qpstep=4 ip_ratio=1.40 aq=1:1.00\n",
            "Output #0, mp4, to '/content/converted_video.mp4':\n",
            "  Metadata:\n",
            "    encoder         : Lavf58.76.100\n",
            "  Stream #0:0: Video: h264 (avc1 / 0x31637661), yuv420p(tv, progressive), 360x288 [SAR 1:1 DAR 5:4], q=2-31, 25 fps, 12800 tbn\n",
            "    Metadata:\n",
            "      encoder         : Lavc58.134.100 libx264\n",
            "    Side data:\n",
            "      cpb: bitrate max/min/avg: 0/0/0 buffer size: 0 vbv_delay: N/A\n",
            "  Stream #0:1: Audio: aac (LC) (mp4a / 0x6134706D), 44100 Hz, stereo, fltp, 128 kb/s\n",
            "    Metadata:\n",
            "      encoder         : Lavc58.134.100 aac\n",
            "frame=    1 fps=0.0 q=0.0 size=       0kB time=00:00:00.00 bitrate=N/A speed=   0x    \rframe=   75 fps=0.0 q=-1.0 Lsize=     112kB time=00:00:02.97 bitrate= 308.6kbits/s speed=5.76x    \n",
            "video:61kB audio:47kB subtitle:0kB other streams:0kB global headers:0kB muxing overhead: 3.321619%\n",
            "\u001b[1;36m[libx264 @ 0x57a12c04e680] \u001b[0mframe I:1     Avg QP:21.85  size:  6320\n",
            "\u001b[1;36m[libx264 @ 0x57a12c04e680] \u001b[0mframe P:47    Avg QP:21.91  size:  1019\n",
            "\u001b[1;36m[libx264 @ 0x57a12c04e680] \u001b[0mframe B:27    Avg QP:23.46  size:   298\n",
            "\u001b[1;36m[libx264 @ 0x57a12c04e680] \u001b[0mconsecutive B-frames: 49.3%  5.3%  8.0% 37.3%\n",
            "\u001b[1;36m[libx264 @ 0x57a12c04e680] \u001b[0mmb I  I16..4: 32.4% 66.9%  0.7%\n",
            "\u001b[1;36m[libx264 @ 0x57a12c04e680] \u001b[0mmb P  I16..4:  3.1%  2.7%  0.0%  P16..4: 40.9%  8.8%  6.7%  0.0%  0.0%    skip:37.8%\n",
            "\u001b[1;36m[libx264 @ 0x57a12c04e680] \u001b[0mmb B  I16..4:  0.7%  0.9%  0.0%  B16..8: 31.0%  1.1%  0.1%  direct: 1.2%  skip:65.0%  L0:52.4% L1:46.2% BI: 1.4%\n",
            "\u001b[1;36m[libx264 @ 0x57a12c04e680] \u001b[0m8x8 transform intra:52.0% inter:84.0%\n",
            "\u001b[1;36m[libx264 @ 0x57a12c04e680] \u001b[0mcoded y,uvDC,uvAC intra: 27.6% 67.9% 8.9% inter: 9.4% 25.0% 1.1%\n",
            "\u001b[1;36m[libx264 @ 0x57a12c04e680] \u001b[0mi16 v,h,dc,p: 14% 31% 13% 42%\n",
            "\u001b[1;36m[libx264 @ 0x57a12c04e680] \u001b[0mi8 v,h,dc,ddl,ddr,vr,hd,vl,hu: 18% 29% 42%  2%  1%  2%  1%  2%  3%\n",
            "\u001b[1;36m[libx264 @ 0x57a12c04e680] \u001b[0mi4 v,h,dc,ddl,ddr,vr,hd,vl,hu: 17% 31%  6%  4%  2% 38%  2%  0%  0%\n",
            "\u001b[1;36m[libx264 @ 0x57a12c04e680] \u001b[0mi8c dc,h,v,p: 42% 26% 26%  6%\n",
            "\u001b[1;36m[libx264 @ 0x57a12c04e680] \u001b[0mWeighted P-Frames: Y:0.0% UV:0.0%\n",
            "\u001b[1;36m[libx264 @ 0x57a12c04e680] \u001b[0mref P L0: 64.8%  7.5% 18.4%  9.3%\n",
            "\u001b[1;36m[libx264 @ 0x57a12c04e680] \u001b[0mref B L0: 79.0% 15.2%  5.8%\n",
            "\u001b[1;36m[libx264 @ 0x57a12c04e680] \u001b[0mref B L1: 94.4%  5.6%\n",
            "\u001b[1;36m[libx264 @ 0x57a12c04e680] \u001b[0mkb/s:166.02\n",
            "\u001b[1;36m[aac @ 0x57a12c06f6c0] \u001b[0mQavg: 738.618\n"
          ]
        }
      ]
    },
    {
      "cell_type": "code",
      "source": [
        "from moviepy.editor import VideoFileClip\n",
        "from IPython.display import HTML\n",
        "\n",
        "# Load the video file\n",
        "video_path = './data/s1/bras9a.mpg' #if you already converted\n",
        "\n",
        "# Load the video clip\n",
        "clip = VideoFileClip(video_path)\n",
        "\n",
        "# Display the video inline\n",
        "clip.ipython_display(width=640, height=480)\n"
      ],
      "metadata": {
        "id": "E4zY9Je9h4ck",
        "colab": {
          "base_uri": "https://localhost:8080/",
          "height": 626
        },
        "outputId": "e4da6b39-33fd-4e16-f4a5-3215477e8671"
      },
      "id": "E4zY9Je9h4ck",
      "execution_count": null,
      "outputs": [
        {
          "output_type": "stream",
          "name": "stdout",
          "text": [
            "Moviepy - Building video __temp__.mp4.\n",
            "MoviePy - Writing audio in __temp__TEMP_MPY_wvf_snd.mp3\n"
          ]
        },
        {
          "output_type": "stream",
          "name": "stderr",
          "text": []
        },
        {
          "output_type": "stream",
          "name": "stdout",
          "text": [
            "MoviePy - Done.\n",
            "Moviepy - Writing video __temp__.mp4\n",
            "\n"
          ]
        },
        {
          "output_type": "stream",
          "name": "stderr",
          "text": [
            "                                                             "
          ]
        },
        {
          "output_type": "stream",
          "name": "stdout",
          "text": [
            "Moviepy - Done !\n"
          ]
        },
        {
          "output_type": "stream",
          "name": "stderr",
          "text": [
            "\r"
          ]
        },
        {
          "output_type": "stream",
          "name": "stdout",
          "text": [
            "Moviepy - video ready __temp__.mp4\n"
          ]
        },
        {
          "output_type": "execute_result",
          "data": {
            "text/plain": [
              "<moviepy.video.io.html_tools.HTML2 object>"
            ],
            "text/html": [
              "<div align=middle><video width='640' height='480'src='data:video/mp4;base64,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' controls>Sorry, seems like your browser doesn't support HTML5 audio/video</video></div>"
            ]
          },
          "metadata": {},
          "execution_count": 74
        }
      ]
    },
    {
      "cell_type": "code",
      "execution_count": null,
      "id": "a8b0c4d0-2031-4331-b91d-d87b1ae6f6e2",
      "metadata": {
        "id": "a8b0c4d0-2031-4331-b91d-d87b1ae6f6e2"
      },
      "outputs": [],
      "source": [
        "sample = load_data(tf.convert_to_tensor('./data/s1/bras9a.mpg'))"
      ]
    },
    {
      "cell_type": "code",
      "execution_count": null,
      "id": "0cca60e4-47a9-4683-8a75-48f4684f723d",
      "metadata": {
        "id": "0cca60e4-47a9-4683-8a75-48f4684f723d",
        "outputId": "7bf09067-646a-4c99-e3e6-aa5dc23d5a91",
        "colab": {
          "base_uri": "https://localhost:8080/"
        }
      },
      "outputs": [
        {
          "output_type": "stream",
          "name": "stdout",
          "text": [
            "REAL TEXT\n",
            "bin red at s nine again\n"
          ]
        }
      ],
      "source": [
        "from typing_extensions import Text\n",
        "print('REAL TEXT')\n",
        "text=[tf.strings.reduce_join([num_to_char(word) for word in sentence]) for sentence in [sample[1]]]\n",
        "print(text[0].numpy().decode('utf-8'))"
      ]
    },
    {
      "cell_type": "code",
      "execution_count": null,
      "id": "8cc5037c-1e32-435c-b0cc-01e1fb3b863c",
      "metadata": {
        "id": "8cc5037c-1e32-435c-b0cc-01e1fb3b863c",
        "outputId": "d2c5d698-4a05-4084-a4c7-eae2b3786fcc",
        "colab": {
          "base_uri": "https://localhost:8080/"
        }
      },
      "outputs": [
        {
          "output_type": "stream",
          "name": "stdout",
          "text": [
            "1/1 [==============================] - 5s 5s/step\n"
          ]
        }
      ],
      "source": [
        "yhat = model.predict(tf.expand_dims(sample[0], axis=0))"
      ]
    },
    {
      "cell_type": "code",
      "execution_count": null,
      "id": "22c4f77d-715d-409f-bc5e-3ebe48704e8f",
      "metadata": {
        "id": "22c4f77d-715d-409f-bc5e-3ebe48704e8f"
      },
      "outputs": [],
      "source": [
        "decoded = tf.keras.backend.ctc_decode(yhat, input_length=[75], greedy=True)[0][0].numpy()"
      ]
    },
    {
      "cell_type": "code",
      "execution_count": null,
      "id": "e4d12ecc-b634-499e-a4bc-db9f010835fb",
      "metadata": {
        "id": "e4d12ecc-b634-499e-a4bc-db9f010835fb",
        "outputId": "a17b4ce5-99b5-4b6c-bb2d-79f25ad5925a",
        "colab": {
          "base_uri": "https://localhost:8080/"
        }
      },
      "outputs": [
        {
          "output_type": "stream",
          "name": "stdout",
          "text": [
            "PREDICTIONS\n",
            "bin red at s nine again\n"
          ]
        }
      ],
      "source": [
        "print('PREDICTIONS')\n",
        "text = [tf.strings.reduce_join([num_to_char(word) for word in sentence]) for sentence in decoded]\n",
        "print(text[0].numpy().decode('utf-8'))"
      ]
    },
    {
      "cell_type": "markdown",
      "source": [
        "# hence we can see real text and predictions are matching !!"
      ],
      "metadata": {
        "id": "bb2XrKtl8PBB"
      },
      "id": "bb2XrKtl8PBB"
    }
  ],
  "metadata": {
    "kernelspec": {
      "display_name": "lips",
      "language": "python",
      "name": "lips"
    },
    "language_info": {
      "codemirror_mode": {
        "name": "ipython",
        "version": 3
      },
      "file_extension": ".py",
      "mimetype": "text/x-python",
      "name": "python",
      "nbconvert_exporter": "python",
      "pygments_lexer": "ipython3",
      "version": "3.9.12"
    },
    "colab": {
      "provenance": [],
      "gpuType": "T4"
    },
    "accelerator": "GPU"
  },
  "nbformat": 4,
  "nbformat_minor": 5
}